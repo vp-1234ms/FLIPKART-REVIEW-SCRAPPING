{
 "cells": [
  {
   "cell_type": "code",
   "execution_count": 44,
   "id": "d291d966-5272-4808-b5a7-14283c2906b5",
   "metadata": {},
   "outputs": [],
   "source": [
    "import requests\n",
    "from bs4 import BeautifulSoup as bs\n",
    "from urllib.request import urlopen\n",
    "import logging"
   ]
  },
  {
   "cell_type": "code",
   "execution_count": 3,
   "id": "bae2b1a6-7304-4b7d-8e00-70f383167c26",
   "metadata": {},
   "outputs": [],
   "source": [
    "flipkart_url = \"https://www.flipkart.com/search?q=\" "
   ]
  },
  {
   "cell_type": "code",
   "execution_count": 4,
   "id": "51944dd7-0acc-4f66-a648-59c720ad3fd2",
   "metadata": {},
   "outputs": [
    {
     "data": {
      "text/plain": [
       "'https://www.flipkart.com/search?q='"
      ]
     },
     "execution_count": 4,
     "metadata": {},
     "output_type": "execute_result"
    }
   ],
   "source": [
    "flipkart_url"
   ]
  },
  {
   "cell_type": "code",
   "execution_count": 5,
   "id": "896551cb-25a0-4e59-84f9-5b62dc98c9a6",
   "metadata": {},
   "outputs": [],
   "source": [
    "product=\"redmi\""
   ]
  },
  {
   "cell_type": "code",
   "execution_count": 6,
   "id": "58327cb6-537d-4ebe-af62-5faacf1796d8",
   "metadata": {},
   "outputs": [],
   "source": [
    "flipkart_url=flipkart_url+product"
   ]
  },
  {
   "cell_type": "code",
   "execution_count": 7,
   "id": "9feeba93-529e-4017-8bc5-ee8139226dee",
   "metadata": {},
   "outputs": [],
   "source": [
    "urlclient=urlopen(flipkart_url)"
   ]
  },
  {
   "cell_type": "code",
   "execution_count": 8,
   "id": "efde60d5-57ea-4e2b-b849-05bc0c2026c4",
   "metadata": {},
   "outputs": [],
   "source": [
    "flipkart_page=urlclient.read()"
   ]
  },
  {
   "cell_type": "code",
   "execution_count": 45,
   "id": "9754ef46-4dbf-4b98-a311-7f4d2e5d57bb",
   "metadata": {},
   "outputs": [],
   "source": [
    "flipkart_html=bs(flipkart_page,\"html.parser\")"
   ]
  },
  {
   "cell_type": "code",
   "execution_count": 10,
   "id": "5c483131-c982-4806-bbb0-c61ba79222c0",
   "metadata": {},
   "outputs": [
    {
     "data": {
      "text/plain": [
       "'https://www.flipkart.com/search?q=/redmi-9i-sport-carbon-black-64-gb/p/itm4559197007bd1?pid=MOBG6WQWRGRRDBH6&lid=LSTMOBG6WQWRGRRDBH6GYTMM1&marketplace=FLIPKART&q=REDMI&store=tyy%2F4io&spotlightTagId=BestsellerId_tyy%2F4io&srno=s_1_3&otracker=search&otracker1=search&fm=organic&iid=06c95854-5334-499f-9332-b85890fa91b9.MOBG6WQWRGRRDBH6.SEARCH&ppt=hp&ppn=homepage&ssid=5graywb3gg0000001677088357897&qH=8c61001837de09d9'"
      ]
     },
     "execution_count": 10,
     "metadata": {},
     "output_type": "execute_result"
    }
   ],
   "source": [
    "\"https://www.flipkart.com/search?q=\" + \"/redmi-9i-sport-carbon-black-64-gb/p/itm4559197007bd1?pid=MOBG6WQWRGRRDBH6&lid=LSTMOBG6WQWRGRRDBH6GYTMM1&marketplace=FLIPKART&q=REDMI&store=tyy%2F4io&spotlightTagId=BestsellerId_tyy%2F4io&srno=s_1_3&otracker=search&otracker1=search&fm=organic&iid=06c95854-5334-499f-9332-b85890fa91b9.MOBG6WQWRGRRDBH6.SEARCH&ppt=hp&ppn=homepage&ssid=5graywb3gg0000001677088357897&qH=8c61001837de09d9\""
   ]
  },
  {
   "cell_type": "code",
   "execution_count": 11,
   "id": "ae1337a0-3430-4df9-b1b8-44f355156ac8",
   "metadata": {},
   "outputs": [
    {
     "data": {
      "text/plain": [
       "'https://www.flipkart.com/search?q=redmi/redmi-9i-sport-carbon-black-64-gb/p/itm4559197007bd1?pid=MOBG6WQWRGRRDBH6&lid=LSTMOBG6WQWRGRRDBH6GYTMM1&marketplace=FLIPKART&q=REDMI&store=tyy%2F4io&spotlightTagId=BestsellerId_tyy%2F4io&srno=s_1_3&otracker=search&otracker1=search&fm=organic&iid=06c95854-5334-499f-9332-b85890fa91b9.MOBG6WQWRGRRDBH6.SEARCH&ppt=hp&ppn=homepage&ssid=5graywb3gg0000001677088357897&qH=8c61001837de09d9'"
      ]
     },
     "execution_count": 11,
     "metadata": {},
     "output_type": "execute_result"
    }
   ],
   "source": [
    "flipkart_url + \"/redmi-9i-sport-carbon-black-64-gb/p/itm4559197007bd1?pid=MOBG6WQWRGRRDBH6&lid=LSTMOBG6WQWRGRRDBH6GYTMM1&marketplace=FLIPKART&q=REDMI&store=tyy%2F4io&spotlightTagId=BestsellerId_tyy%2F4io&srno=s_1_3&otracker=search&otracker1=search&fm=organic&iid=06c95854-5334-499f-9332-b85890fa91b9.MOBG6WQWRGRRDBH6.SEARCH&ppt=hp&ppn=homepage&ssid=5graywb3gg0000001677088357897&qH=8c61001837de09d9\""
   ]
  },
  {
   "cell_type": "code",
   "execution_count": 21,
   "id": "39db1927-9108-4bf8-844f-98efa7435a19",
   "metadata": {},
   "outputs": [],
   "source": [
    "bigbox=flipkart_html.find_all(\"div\",{\"class\":\"_1AtVbE col-12-12\"})"
   ]
  },
  {
   "cell_type": "code",
   "execution_count": 22,
   "id": "218eef65-dc45-42bd-9c18-176e0ea5c5be",
   "metadata": {},
   "outputs": [
    {
     "data": {
      "text/plain": [
       "30"
      ]
     },
     "execution_count": 22,
     "metadata": {},
     "output_type": "execute_result"
    }
   ],
   "source": [
    "len(bigbox)\n"
   ]
  },
  {
   "cell_type": "code",
   "execution_count": 24,
   "id": "b1af7140-3cf5-4e35-a365-b59919ac7e92",
   "metadata": {},
   "outputs": [],
   "source": [
    "del bigbox[0:2]"
   ]
  },
  {
   "cell_type": "code",
   "execution_count": 25,
   "id": "f7f30d81-b578-46cd-b7f6-46ca959d3515",
   "metadata": {},
   "outputs": [
    {
     "data": {
      "text/plain": [
       "28"
      ]
     },
     "execution_count": 25,
     "metadata": {},
     "output_type": "execute_result"
    }
   ],
   "source": [
    "len(bigbox)"
   ]
  },
  {
   "cell_type": "code",
   "execution_count": 26,
   "id": "65d36b1b-2665-4b05-8329-53cd5bbfc925",
   "metadata": {},
   "outputs": [],
   "source": [
    "main_url=bigbox[0].div.div.div.a[\"href\"]"
   ]
  },
  {
   "cell_type": "code",
   "execution_count": 27,
   "id": "3ebb9521-81e4-41bb-81ce-b1d8ec2ab2c7",
   "metadata": {},
   "outputs": [],
   "source": [
    "final_url = flipkart_url + main_url"
   ]
  },
  {
   "cell_type": "code",
   "execution_count": 28,
   "id": "878cac29-6022-48f1-bc2b-097b581e199d",
   "metadata": {},
   "outputs": [
    {
     "data": {
      "text/plain": [
       "'https://www.flipkart.com/search?q=redmi/redmi-10-caribbean-green-64-gb/p/itmbfb8dfcdd6e10?pid=MOBGC9GYQGGKWEU3&lid=LSTMOBGC9GYQGGKWEU3SLBNSD&marketplace=FLIPKART&q=redmi&store=tyy%2F4io&srno=s_1_1&otracker=search&fm=organic&iid=ff1d519e-7b7b-4415-b632-fb94eefd7065.MOBGC9GYQGGKWEU3.SEARCH&ppt=None&ppn=None&ssid=25rkxaw6kw0000001677128917545&qH=9b6bf0057c19bd94'"
      ]
     },
     "execution_count": 28,
     "metadata": {},
     "output_type": "execute_result"
    }
   ],
   "source": [
    "final_url"
   ]
  },
  {
   "cell_type": "code",
   "execution_count": 29,
   "id": "15ab92fc-72c5-4ee4-bacf-09430e7cb913",
   "metadata": {},
   "outputs": [
    {
     "ename": "AttributeError",
     "evalue": "'NoneType' object has no attribute 'a'",
     "output_type": "error",
     "traceback": [
      "\u001b[0;31m---------------------------------------------------------------------------\u001b[0m",
      "\u001b[0;31mAttributeError\u001b[0m                            Traceback (most recent call last)",
      "Cell \u001b[0;32mIn[29], line 3\u001b[0m\n\u001b[1;32m      1\u001b[0m main_url_list\u001b[38;5;241m=\u001b[39m[]\n\u001b[1;32m      2\u001b[0m \u001b[38;5;28;01mfor\u001b[39;00m i \u001b[38;5;129;01min\u001b[39;00m \u001b[38;5;28mrange\u001b[39m(\u001b[38;5;241m0\u001b[39m,\u001b[38;5;28mlen\u001b[39m(bigbox)):\n\u001b[0;32m----> 3\u001b[0m     main_url \u001b[38;5;241m=\u001b[39m \u001b[43mbigbox\u001b[49m\u001b[43m[\u001b[49m\u001b[43mi\u001b[49m\u001b[43m]\u001b[49m\u001b[38;5;241;43m.\u001b[39;49m\u001b[43mdiv\u001b[49m\u001b[38;5;241;43m.\u001b[39;49m\u001b[43mdiv\u001b[49m\u001b[38;5;241;43m.\u001b[39;49m\u001b[43mdiv\u001b[49m\u001b[38;5;241;43m.\u001b[39;49m\u001b[43ma\u001b[49m[\u001b[38;5;124m\"\u001b[39m\u001b[38;5;124mhref\u001b[39m\u001b[38;5;124m\"\u001b[39m]\n\u001b[1;32m      4\u001b[0m     final_url \u001b[38;5;241m=\u001b[39m flipkart_url \u001b[38;5;241m+\u001b[39m main_url\n\u001b[1;32m      5\u001b[0m     main_url_list\u001b[38;5;241m.\u001b[39mappend(final_url)\n",
      "\u001b[0;31mAttributeError\u001b[0m: 'NoneType' object has no attribute 'a'"
     ]
    }
   ],
   "source": [
    "main_url_list=[]\n",
    "for i in range(0,len(bigbox)):\n",
    "    main_url = bigbox[i].div.div.div.a[\"href\"]\n",
    "    final_url = flipkart_url + main_url\n",
    "    main_url_list.append(final_url)"
   ]
  },
  {
   "cell_type": "code",
   "execution_count": 31,
   "id": "6f2f1423-0b98-43af-b81a-31e869f363ca",
   "metadata": {},
   "outputs": [
    {
     "name": "stdout",
     "output_type": "stream",
     "text": [
      "1 https://www.flipkart.com/search?q=redmi/redmi-10-caribbean-green-64-gb/p/itmbfb8dfcdd6e10?pid=MOBGC9GYQGGKWEU3&lid=LSTMOBGC9GYQGGKWEU3SLBNSD&marketplace=FLIPKART&q=redmi&store=tyy%2F4io&srno=s_1_1&otracker=search&fm=organic&iid=ff1d519e-7b7b-4415-b632-fb94eefd7065.MOBGC9GYQGGKWEU3.SEARCH&ppt=None&ppn=None&ssid=25rkxaw6kw0000001677128917545&qH=9b6bf0057c19bd94\n",
      "2 https://www.flipkart.com/search?q=redmi/redmi-10-midnight-black-64-gb/p/itmd93641e4ebb47?pid=MOBGC9GYEBH3GZ4E&lid=LSTMOBGC9GYEBH3GZ4ESWAKTT&marketplace=FLIPKART&q=redmi&store=tyy%2F4io&srno=s_1_2&otracker=search&fm=organic&iid=ff1d519e-7b7b-4415-b632-fb94eefd7065.MOBGC9GYEBH3GZ4E.SEARCH&ppt=None&ppn=None&ssid=25rkxaw6kw0000001677128917545&qH=9b6bf0057c19bd94\n",
      "3 https://www.flipkart.com/search?q=redmi/redmi-9i-sport-carbon-black-64-gb/p/itm4559197007bd1?pid=MOBG6WQWRGRRDBH6&lid=LSTMOBG6WQWRGRRDBH6DJKEOT&marketplace=FLIPKART&q=redmi&store=tyy%2F4io&spotlightTagId=BestsellerId_tyy%2F4io&srno=s_1_3&otracker=search&fm=organic&iid=ff1d519e-7b7b-4415-b632-fb94eefd7065.MOBG6WQWRGRRDBH6.SEARCH&ppt=None&ppn=None&ssid=25rkxaw6kw0000001677128917545&qH=9b6bf0057c19bd94\n",
      "4 https://www.flipkart.com/search?q=redmi/redmi-9i-sport-coral-green-64-gb/p/itmb5e8d8186b602?pid=MOBG6WQWJRFZ5WDG&lid=LSTMOBG6WQWJRFZ5WDGWJR993&marketplace=FLIPKART&q=redmi&store=tyy%2F4io&srno=s_1_4&otracker=search&fm=organic&iid=ff1d519e-7b7b-4415-b632-fb94eefd7065.MOBG6WQWJRFZ5WDG.SEARCH&ppt=None&ppn=None&ssid=25rkxaw6kw0000001677128917545&qH=9b6bf0057c19bd94\n",
      "5 https://www.flipkart.com/search?q=redmi/redmi-10a-slate-grey-64-gb/p/itmab0d50e81ec2e?pid=MOBGHTDUF7TGZSKF&lid=LSTMOBGHTDUF7TGZSKFOMKQPU&marketplace=FLIPKART&q=redmi&store=tyy%2F4io&srno=s_1_5&otracker=search&fm=organic&iid=ff1d519e-7b7b-4415-b632-fb94eefd7065.MOBGHTDUF7TGZSKF.SEARCH&ppt=None&ppn=None&ssid=25rkxaw6kw0000001677128917545&qH=9b6bf0057c19bd94\n",
      "6 https://www.flipkart.com/search?q=redmi/redmi-10-midnight-black-128-gb/p/itm68b3d276eda8c?pid=MOBGC9GYX2QQXKWK&lid=LSTMOBGC9GYX2QQXKWKZPFGVJ&marketplace=FLIPKART&q=redmi&store=tyy%2F4io&srno=s_1_6&otracker=search&fm=organic&iid=ff1d519e-7b7b-4415-b632-fb94eefd7065.MOBGC9GYX2QQXKWK.SEARCH&ppt=None&ppn=None&ssid=25rkxaw6kw0000001677128917545&qH=9b6bf0057c19bd94\n",
      "7 https://www.flipkart.com/search?q=redmi/redmi-10-pacific-blue-64-gb/p/itm0f2a6a2112b75?pid=MOBGC9GYCHQZK9GW&lid=LSTMOBGC9GYCHQZK9GWAF1RPC&marketplace=FLIPKART&q=redmi&store=tyy%2F4io&srno=s_1_7&otracker=search&fm=organic&iid=ff1d519e-7b7b-4415-b632-fb94eefd7065.MOBGC9GYCHQZK9GW.SEARCH&ppt=None&ppn=None&ssid=25rkxaw6kw0000001677128917545&qH=9b6bf0057c19bd94\n",
      "8 https://www.flipkart.com/search?q=redmi/redmi-10a-charcoal-black-32-gb/p/itmab0d50e81ec2e?pid=MOBGDRGHYWAAZDVD&lid=LSTMOBGDRGHYWAAZDVDVQRZP7&marketplace=FLIPKART&q=redmi&store=tyy%2F4io&srno=s_1_8&otracker=search&fm=organic&iid=ff1d519e-7b7b-4415-b632-fb94eefd7065.MOBGDRGHYWAAZDVD.SEARCH&ppt=None&ppn=None&ssid=25rkxaw6kw0000001677128917545&qH=9b6bf0057c19bd94\n",
      "9 https://www.flipkart.com/search?q=redmi/redmi-note-10s-frost-white-64-gb/p/itm2059d1d0cfd67?pid=MOBGAHD8TKZGPYJW&lid=LSTMOBGAHD8TKZGPYJWDRWTJG&marketplace=FLIPKART&q=redmi&store=tyy%2F4io&srno=s_1_9&otracker=search&fm=organic&iid=ff1d519e-7b7b-4415-b632-fb94eefd7065.MOBGAHD8TKZGPYJW.SEARCH&ppt=None&ppn=None&ssid=25rkxaw6kw0000001677128917545&qH=9b6bf0057c19bd94\n",
      "10 https://www.flipkart.com/search?q=redmi/redmi-note-11-se-cosmic-white-64-gb/p/itm894dab106a9b1?pid=MOBGHBKHJFCAHP7C&lid=LSTMOBGHBKHJFCAHP7CWJDEOM&marketplace=FLIPKART&q=redmi&store=tyy%2F4io&srno=s_1_10&otracker=search&fm=organic&iid=ff1d519e-7b7b-4415-b632-fb94eefd7065.MOBGHBKHJFCAHP7C.SEARCH&ppt=None&ppn=None&ssid=25rkxaw6kw0000001677128917545&qH=9b6bf0057c19bd94\n",
      "11 https://www.flipkart.com/search?q=redmi/redmi-10-pacific-blue-128-gb/p/itmeee56f3526c69?pid=MOBGC9GYMXA2XAH4&lid=LSTMOBGC9GYMXA2XAH4QEHS0T&marketplace=FLIPKART&q=redmi&store=tyy%2F4io&srno=s_1_11&otracker=search&fm=organic&iid=ff1d519e-7b7b-4415-b632-fb94eefd7065.MOBGC9GYMXA2XAH4.SEARCH&ppt=None&ppn=None&ssid=25rkxaw6kw0000001677128917545&qH=9b6bf0057c19bd94\n",
      "12 https://www.flipkart.com/search?q=redmi/redmi-10-prime-astral-white-128-gb/p/itm9377b4c936baa?pid=MOBG6RGJGTKTUVD9&lid=LSTMOBG6RGJGTKTUVD9BVVLOI&marketplace=FLIPKART&q=redmi&store=tyy%2F4io&srno=s_1_12&otracker=search&fm=organic&iid=ff1d519e-7b7b-4415-b632-fb94eefd7065.MOBG6RGJGTKTUVD9.SEARCH&ppt=None&ppn=None&ssid=25rkxaw6kw0000001677128917545&qH=9b6bf0057c19bd94\n",
      "13 https://www.flipkart.com/search?q=redmi/redmi-10a-charcoal-black-64-gb/p/itmab0d50e81ec2e?pid=MOBGHFFTYB6GYY4Y&lid=LSTMOBGHFFTYB6GYY4YOWN6HO&marketplace=FLIPKART&q=redmi&store=tyy%2F4io&srno=s_1_13&otracker=search&fm=organic&iid=ff1d519e-7b7b-4415-b632-fb94eefd7065.MOBGHFFTYB6GYY4Y.SEARCH&ppt=None&ppn=None&ssid=25rkxaw6kw0000001677128917545&qH=9b6bf0057c19bd94\n",
      "14 https://www.flipkart.com/search?q=redmi/redmi-note-11-space-black-64-gb/p/itme81102bba3838?pid=MOBGHDXFPSHVGXUQ&lid=LSTMOBGHDXFPSHVGXUQCD2WMT&marketplace=FLIPKART&q=redmi&store=tyy%2F4io&srno=s_1_14&otracker=search&fm=organic&iid=ff1d519e-7b7b-4415-b632-fb94eefd7065.MOBGHDXFPSHVGXUQ.SEARCH&ppt=None&ppn=None&ssid=25rkxaw6kw0000001677128917545&qH=9b6bf0057c19bd94\n",
      "15 https://www.flipkart.com/search?q=redmi/redmi-9-activ-coral-green-128-gb/p/itmf8e24fc354f15?pid=MOBG7FNGKTZMF2FQ&lid=LSTMOBG7FNGKTZMF2FQHCRQ1Z&marketplace=FLIPKART&q=redmi&store=tyy%2F4io&srno=s_1_15&otracker=search&fm=organic&iid=ff1d519e-7b7b-4415-b632-fb94eefd7065.MOBG7FNGKTZMF2FQ.SEARCH&ppt=None&ppn=None&ssid=25rkxaw6kw0000001677128917545&qH=9b6bf0057c19bd94\n",
      "16 https://www.flipkart.com/search?q=redmi/redmi-note-12-pro-5g-stardust-purple-128-gb/p/itm26c8ff9d1f226?pid=MOBGH2UVWWDA4MS6&lid=LSTMOBGH2UVWWDA4MS6M7LVCT&marketplace=FLIPKART&q=redmi&store=tyy%2F4io&srno=s_1_16&otracker=search&fm=organic&iid=ff1d519e-7b7b-4415-b632-fb94eefd7065.MOBGH2UVWWDA4MS6.SEARCH&ppt=None&ppn=None&ssid=25rkxaw6kw0000001677128917545&qH=9b6bf0057c19bd94\n",
      "17 https://www.flipkart.com/search?q=redmi/redmi-10-power-sporty-orange-128-gb/p/itm97f5d2ec83588?pid=MOBGHDXFV9PCSYXV&lid=LSTMOBGHDXFV9PCSYXVZNLQYJ&marketplace=FLIPKART&q=redmi&store=tyy%2F4io&srno=s_1_17&otracker=search&fm=organic&iid=ff1d519e-7b7b-4415-b632-fb94eefd7065.MOBGHDXFV9PCSYXV.SEARCH&ppt=None&ppn=None&ssid=25rkxaw6kw0000001677128917545&qH=9b6bf0057c19bd94\n",
      "18 https://www.flipkart.com/search?q=redmi/redmi-9i-sport-metallic-blue-64-gb/p/itmeb95d0b4616cc?pid=MOBG6WQWQZZMGQCU&lid=LSTMOBG6WQWQZZMGQCU57U3JM&marketplace=FLIPKART&q=redmi&store=tyy%2F4io&srno=s_1_18&otracker=search&fm=organic&iid=ff1d519e-7b7b-4415-b632-fb94eefd7065.MOBG6WQWQZZMGQCU.SEARCH&ppt=None&ppn=None&ssid=25rkxaw6kw0000001677128917545&qH=9b6bf0057c19bd94\n",
      "19 https://www.flipkart.com/search?q=redmi/redmi-10a-sea-blue-32-gb/p/itmab0d50e81ec2e?pid=MOBGHFFT4RWXDEPA&lid=LSTMOBGHFFT4RWXDEPASOXZK1&marketplace=FLIPKART&q=redmi&store=tyy%2F4io&srno=s_1_19&otracker=search&fm=organic&iid=ff1d519e-7b7b-4415-b632-fb94eefd7065.MOBGHFFT4RWXDEPA.SEARCH&ppt=None&ppn=None&ssid=25rkxaw6kw0000001677128917545&qH=9b6bf0057c19bd94\n",
      "20 https://www.flipkart.com/search?q=redmi/redmi-10-caribbean-green-128-gb/p/itm2389889c22bf0?pid=MOBGC9GYQVJHKH76&lid=LSTMOBGC9GYQVJHKH76ZPAFEC&marketplace=FLIPKART&q=redmi&store=tyy%2F4io&srno=s_1_20&otracker=search&fm=organic&iid=ff1d519e-7b7b-4415-b632-fb94eefd7065.MOBGC9GYQVJHKH76.SEARCH&ppt=None&ppn=None&ssid=25rkxaw6kw0000001677128917545&qH=9b6bf0057c19bd94\n",
      "21 https://www.flipkart.com/search?q=redmi/redmi-9-activ-carbon-black-128-gb/p/itmf83af57e767aa?pid=MOBG7FNGXYZDS6YY&lid=LSTMOBG7FNGXYZDS6YYCMPBML&marketplace=FLIPKART&q=redmi&store=tyy%2F4io&srno=s_1_21&otracker=search&fm=organic&iid=ff1d519e-7b7b-4415-b632-fb94eefd7065.MOBG7FNGXYZDS6YY.SEARCH&ppt=None&ppn=None&ssid=25rkxaw6kw0000001677128917545&qH=9b6bf0057c19bd94\n",
      "22 https://www.flipkart.com/search?q=redmi/redmi-9i-midnight-black-64-gb/p/itm9e3af42cbac00?pid=MOBFV8RYKWQ3HACE&lid=LSTMOBFV8RYKWQ3HACE8DXISG&marketplace=FLIPKART&q=redmi&store=tyy%2F4io&srno=s_1_22&otracker=search&fm=organic&iid=ff1d519e-7b7b-4415-b632-fb94eefd7065.MOBFV8RYKWQ3HACE.SEARCH&ppt=None&ppn=None&ssid=25rkxaw6kw0000001677128917545&qH=9b6bf0057c19bd94\n",
      "23 https://www.flipkart.com/search?q=redmi/redmi-10-prime-bifrost-blue-128-gb/p/itm9377b4c936baa?pid=MOBG6PB47FHHGTZN&lid=LSTMOBG6PB47FHHGTZNLGCWAD&marketplace=FLIPKART&q=redmi&store=tyy%2F4io&srno=s_1_23&otracker=search&fm=organic&iid=ff1d519e-7b7b-4415-b632-fb94eefd7065.MOBG6PB47FHHGTZN.SEARCH&ppt=None&ppn=None&ssid=25rkxaw6kw0000001677128917545&qH=9b6bf0057c19bd94\n",
      "24 https://www.flipkart.com/search?q=redmi/redmi-10-prime-phantom-black-128-gb/p/itm9377b4c936baa?pid=MOBG6RGPPXQFYJ4R&lid=LSTMOBG6RGPPXQFYJ4RV9ZMNZ&marketplace=FLIPKART&q=redmi&store=tyy%2F4io&srno=s_1_24&otracker=search&fm=organic&iid=ff1d519e-7b7b-4415-b632-fb94eefd7065.MOBG6RGPPXQFYJ4R.SEARCH&ppt=None&ppn=None&ssid=25rkxaw6kw0000001677128917545&qH=9b6bf0057c19bd94\n"
     ]
    }
   ],
   "source": [
    "main_url_list=[]\n",
    "count=1\n",
    "for i in bigbox:\n",
    "    try:\n",
    "        main_url = i.div.div.div.a[\"href\"]\n",
    "    except AttributeError:\n",
    "        pass\n",
    "    else:\n",
    "        final_url = flipkart_url + main_url\n",
    "        print(count,final_url)\n",
    "        count=count+1"
   ]
  },
  {
   "cell_type": "code",
   "execution_count": 34,
   "id": "19f0e580-11b9-43a5-925b-dc83112e2a5f",
   "metadata": {},
   "outputs": [],
   "source": [
    "main_url_list=[]\n",
    "for i in bigbox:\n",
    "    try:\n",
    "        main_url = i.div.div.div.a[\"href\"]\n",
    "    except AttributeError:\n",
    "        pass\n",
    "    else:\n",
    "        final_url = flipkart_url + main_url\n",
    "        main_url_list.append(final_url)"
   ]
  },
  {
   "cell_type": "code",
   "execution_count": 37,
   "id": "423f16b4-397f-4225-9abd-453827220222",
   "metadata": {},
   "outputs": [],
   "source": [
    "page_info=requests.get(main_url_list[0])"
   ]
  },
  {
   "cell_type": "code",
   "execution_count": 47,
   "id": "5a83dba6-5aa8-400f-9aa2-4d6a614e85ed",
   "metadata": {},
   "outputs": [],
   "source": [
    "page_html=bs(page_info.text,\"html.parser\")"
   ]
  },
  {
   "cell_type": "code",
   "execution_count": null,
   "id": "69304dfe-3302-4622-9868-bc95e473f643",
   "metadata": {},
   "outputs": [],
   "source": [
    "review_box=page_html.find_all(\"div\",{\"class\":\"_16PBlm\"})"
   ]
  },
  {
   "cell_type": "code",
   "execution_count": 64,
   "id": "dd686841-7120-4e78-81c0-9aa56c60e18c",
   "metadata": {},
   "outputs": [
    {
     "data": {
      "text/plain": [
       "[<div class=\"_16PBlm\"><div class=\"col\"><div class=\"col _2wzgFH\"><div class=\"row\"><div class=\"_3LWZlK _1BLPMq\">5<img class=\"_1wB99o\" src=\"data:image/svg+xml;base64,PHN2ZyB4bWxucz0iaHR0cDovL3d3dy53My5vcmcvMjAwMC9zdmciIHdpZHRoPSIxMyIgaGVpZ2h0PSIxMiI+PHBhdGggZmlsbD0iI0ZGRiIgZD0iTTYuNSA5LjQzOWwtMy42NzQgMi4yMy45NC00LjI2LTMuMjEtMi44ODMgNC4yNTQtLjQwNEw2LjUuMTEybDEuNjkgNC4wMSA0LjI1NC40MDQtMy4yMSAyLjg4Mi45NCA0LjI2eiIvPjwvc3ZnPg==\"/></div><p class=\"_2-N8zT\">Fabulous!</p></div><div class=\"row\"><div class=\"t-ZTKy\"><div><div class=\"\">Good phone in this price range, battery backup good, camera ok ok, and performance very very good 🔥 I am mi love <br><br>And very fast delivery Flipkart, thanks</br></br></div><span class=\"_1H-bmy\"><span>READ MORE</span></span></div></div></div><div class=\"_2nMSwX _3oLIki\"><div class=\"_21YjFX _2A07HP\" style=\"background-image:url(https://rukminim1.flixcart.com/blobio/124/124/imr/blobio-imr_b92e0349567241e38177728764719d5b.jpg?q=90), url(data:image/svg+xml;base64,PHN2ZyB3aWR0aD0iMjIiIGhlaWdodD0iMTgiIHhtbG5zPSJodHRwOi8vd3d3LnczLm9yZy8yMDAwL3N2ZyI+PGcgZmlsbD0iIzlEOUQ5RCIgZmlsbC1ydWxlPSJub256ZXJvIj48cGF0aCBkPSJNMjAgMEgyQzEgMCAwIDEgMCAydjE0YzAgMS4xLjkgMiAyIDJoMThjMSAwIDItMSAyLTJWMmMwLTEtMS0yLTItMnptMCAxNS45MmMtLjAyLjAzLS4wNi4wNi0uMDguMDhIMlYyLjA4TDIuMDggMmgxNy44M2MuMDMuMDIuMDYuMDYuMDguMDh2MTMuODRIMjB6Ii8+PHBhdGggZD0iTTEwIDEyLjUxTDcuNSA5LjUgNCAxNGgxNGwtNC41LTZ6Ii8+PC9nPjwvc3ZnPg==);width:62px;height:62px\"></div></div><div class=\"row _3n8db9\"><div class=\"row\"><p class=\"_2sc7ZR _2V5EHH\">Rupam Dhara</p><svg class=\"_2a1p_T\" height=\"14\" viewbox=\"0 0 12 12\" width=\"14\" xmlns=\"http://www.w3.org/2000/svg\"><g><circle cx=\"6\" cy=\"6\" fill=\"#878787\" r=\"6\"></circle><path d=\"M3 6l2 2 4-4\" fill=\"#878787\" stroke=\"#FFF\" stroke-width=\"1.5\"></path></g></svg><p class=\"_2mcZGG\" id=\"review-e2efe6ad-ff76-4607-ab5d-f97f606dfd9a\"><span>Certified Buyer</span><span>, Purba Bardhaman District</span></p><div></div><p class=\"_2sc7ZR\">4 months ago</p></div><div class=\"_1e9_Zu\"><div class=\"row\"><div class=\"_27aTsS\"><div class=\"_1LmwT9\"><svg class=\"skCrcq\" height=\"15\" width=\"20\" xmlns=\"http://www.w3.org/2000/svg\"><path class=\"_1LIt4y\" d=\"M9.58.006c-.41.043-.794.32-1.01.728-.277.557-2.334 4.693-2.74 5.1-.41.407-.944.6-1.544.6v8.572h7.5c.45 0 .835-.28 1.007-.665 0 0 2.207-6.234 2.207-6.834 0-.6-.47-1.072-1.07-1.072h-3.216c-.6 0-1.07-.535-1.07-1.07 0-.537.835-3.387 1.006-3.944.17-.557-.107-1.157-.664-1.35-.15-.043-.257-.086-.407-.064zM0 6.434v8.572h2.143V6.434H0z\" fill=\"#fff\" fill-rule=\"evenodd\"></path></svg><span class=\"_3c3Px5\">1151</span></div><div class=\"_1LmwT9 pkR4jH\"><svg class=\"skCrcq pkR4jH\" height=\"15\" width=\"20\" xmlns=\"http://www.w3.org/2000/svg\"><path class=\"_1LIt4y\" d=\"M9.58.006c-.41.043-.794.32-1.01.728-.277.557-2.334 4.693-2.74 5.1-.41.407-.944.6-1.544.6v8.572h7.5c.45 0 .835-.28 1.007-.665 0 0 2.207-6.234 2.207-6.834 0-.6-.47-1.072-1.07-1.072h-3.216c-.6 0-1.07-.535-1.07-1.07 0-.537.835-3.387 1.006-3.944.17-.557-.107-1.157-.664-1.35-.15-.043-.257-.086-.407-.064zM0 6.434v8.572h2.143V6.434H0z\" fill=\"#fff\" fill-rule=\"evenodd\"></path></svg><span class=\"_3c3Px5\">193</span></div></div><div class=\"_2bmov8\"><svg class=\"_2UvOBb\" height=\"11\" viewbox=\"0 0 16 27\" width=\"6\" xmlns=\"http://www.w3.org/2000/svg\"><path class=\"_2aPE6f\" d=\"M16 23.207L6.11 13.161 16 3.093 12.955 0 0 13.161l12.955 13.161z\" fill=\"#fff\"></path></svg><div class=\"_3E8aIl _38dCuf\"><div class=\"_3XCI6U\"><a href=\"/reviews/MOBGC9GYEBH3GZ4E:2610?reviewId=e2efe6ad-ff76-4607-ab5d-f97f606dfd9a\"><span>Permalink</span></a></div><div class=\"_3XCI6U _2b2z-j\"><span>Report Abuse</span></div></div></div></div></div></div></div></div></div>,\n",
       " <div class=\"_16PBlm\"><div class=\"col\"><div class=\"col _2wzgFH\"><div class=\"row\"><div class=\"_3LWZlK _1BLPMq\">4<img class=\"_1wB99o\" src=\"data:image/svg+xml;base64,PHN2ZyB4bWxucz0iaHR0cDovL3d3dy53My5vcmcvMjAwMC9zdmciIHdpZHRoPSIxMyIgaGVpZ2h0PSIxMiI+PHBhdGggZmlsbD0iI0ZGRiIgZD0iTTYuNSA5LjQzOWwtMy42NzQgMi4yMy45NC00LjI2LTMuMjEtMi44ODMgNC4yNTQtLjQwNEw2LjUuMTEybDEuNjkgNC4wMSA0LjI1NC40MDQtMy4yMSAyLjg4Mi45NCA0LjI2eiIvPjwvc3ZnPg==\"/></div><p class=\"_2-N8zT\">Wonderful</p></div><div class=\"row\"><div class=\"t-ZTKy\"><div><div class=\"\">Very nice mobile 🥳😊<br/>Performance is very good 😊<br/>Camera quality good 😊<br/>Good zooming colour boost ✨<br/>I love it😘<br/>Thank you Flipkart 😇✨</div><span class=\"_1H-bmy\"><span>READ MORE</span></span></div></div></div><div class=\"_2nMSwX _3oLIki\"><div class=\"_21YjFX _2A07HP\" style=\"background-image:url(https://rukminim1.flixcart.com/blobio/124/124/imr/blobio-imr_54d9b519e3ec439bbd37790dfdaf2f1a.jpg?q=90), url(data:image/svg+xml;base64,PHN2ZyB3aWR0aD0iMjIiIGhlaWdodD0iMTgiIHhtbG5zPSJodHRwOi8vd3d3LnczLm9yZy8yMDAwL3N2ZyI+PGcgZmlsbD0iIzlEOUQ5RCIgZmlsbC1ydWxlPSJub256ZXJvIj48cGF0aCBkPSJNMjAgMEgyQzEgMCAwIDEgMCAydjE0YzAgMS4xLjkgMiAyIDJoMThjMSAwIDItMSAyLTJWMmMwLTEtMS0yLTItMnptMCAxNS45MmMtLjAyLjAzLS4wNi4wNi0uMDguMDhIMlYyLjA4TDIuMDggMmgxNy44M2MuMDMuMDIuMDYuMDYuMDguMDh2MTMuODRIMjB6Ii8+PHBhdGggZD0iTTEwIDEyLjUxTDcuNSA5LjUgNCAxNGgxNGwtNC41LTZ6Ii8+PC9nPjwvc3ZnPg==);width:62px;height:62px\"></div><div class=\"_21YjFX _2A07HP\" style=\"background-image:url(https://rukminim1.flixcart.com/blobio/124/124/imr/blobio-imr_7018b677d95f4959af95383bdd8f3c2c.jpg?q=90), url(data:image/svg+xml;base64,PHN2ZyB3aWR0aD0iMjIiIGhlaWdodD0iMTgiIHhtbG5zPSJodHRwOi8vd3d3LnczLm9yZy8yMDAwL3N2ZyI+PGcgZmlsbD0iIzlEOUQ5RCIgZmlsbC1ydWxlPSJub256ZXJvIj48cGF0aCBkPSJNMjAgMEgyQzEgMCAwIDEgMCAydjE0YzAgMS4xLjkgMiAyIDJoMThjMSAwIDItMSAyLTJWMmMwLTEtMS0yLTItMnptMCAxNS45MmMtLjAyLjAzLS4wNi4wNi0uMDguMDhIMlYyLjA4TDIuMDggMmgxNy44M2MuMDMuMDIuMDYuMDYuMDguMDh2MTMuODRIMjB6Ii8+PHBhdGggZD0iTTEwIDEyLjUxTDcuNSA5LjUgNCAxNGgxNGwtNC41LTZ6Ii8+PC9nPjwvc3ZnPg==);width:62px;height:62px\"></div><div class=\"_21YjFX _2A07HP\" style=\"background-image:url(https://rukminim1.flixcart.com/blobio/124/124/imr/blobio-imr_9e423d908f164a80b36b7d2722146cf2.jpg?q=90), url(data:image/svg+xml;base64,PHN2ZyB3aWR0aD0iMjIiIGhlaWdodD0iMTgiIHhtbG5zPSJodHRwOi8vd3d3LnczLm9yZy8yMDAwL3N2ZyI+PGcgZmlsbD0iIzlEOUQ5RCIgZmlsbC1ydWxlPSJub256ZXJvIj48cGF0aCBkPSJNMjAgMEgyQzEgMCAwIDEgMCAydjE0YzAgMS4xLjkgMiAyIDJoMThjMSAwIDItMSAyLTJWMmMwLTEtMS0yLTItMnptMCAxNS45MmMtLjAyLjAzLS4wNi4wNi0uMDguMDhIMlYyLjA4TDIuMDggMmgxNy44M2MuMDMuMDIuMDYuMDYuMDguMDh2MTMuODRIMjB6Ii8+PHBhdGggZD0iTTEwIDEyLjUxTDcuNSA5LjUgNCAxNGgxNGwtNC41LTZ6Ii8+PC9nPjwvc3ZnPg==);width:62px;height:62px\"></div><div class=\"_21YjFX _2A07HP\" style=\"background-image:url(https://rukminim1.flixcart.com/blobio/124/124/imr/blobio-imr_86f8f6a1a47440929f6b2e051cff45ec.jpg?q=90), url(data:image/svg+xml;base64,PHN2ZyB3aWR0aD0iMjIiIGhlaWdodD0iMTgiIHhtbG5zPSJodHRwOi8vd3d3LnczLm9yZy8yMDAwL3N2ZyI+PGcgZmlsbD0iIzlEOUQ5RCIgZmlsbC1ydWxlPSJub256ZXJvIj48cGF0aCBkPSJNMjAgMEgyQzEgMCAwIDEgMCAydjE0YzAgMS4xLjkgMiAyIDJoMThjMSAwIDItMSAyLTJWMmMwLTEtMS0yLTItMnptMCAxNS45MmMtLjAyLjAzLS4wNi4wNi0uMDguMDhIMlYyLjA4TDIuMDggMmgxNy44M2MuMDMuMDIuMDYuMDYuMDguMDh2MTMuODRIMjB6Ii8+PHBhdGggZD0iTTEwIDEyLjUxTDcuNSA5LjUgNCAxNGgxNGwtNC41LTZ6Ii8+PC9nPjwvc3ZnPg==);width:62px;height:62px\"></div><div class=\"_21YjFX _2A07HP\" style=\"background-image:url(https://rukminim1.flixcart.com/blobio/124/124/imr/blobio-imr_ccc200127faf4f24a7f5df40f0e709c7.jpg?q=90), url(data:image/svg+xml;base64,PHN2ZyB3aWR0aD0iMjIiIGhlaWdodD0iMTgiIHhtbG5zPSJodHRwOi8vd3d3LnczLm9yZy8yMDAwL3N2ZyI+PGcgZmlsbD0iIzlEOUQ5RCIgZmlsbC1ydWxlPSJub256ZXJvIj48cGF0aCBkPSJNMjAgMEgyQzEgMCAwIDEgMCAydjE0YzAgMS4xLjkgMiAyIDJoMThjMSAwIDItMSAyLTJWMmMwLTEtMS0yLTItMnptMCAxNS45MmMtLjAyLjAzLS4wNi4wNi0uMDguMDhIMlYyLjA4TDIuMDggMmgxNy44M2MuMDMuMDIuMDYuMDYuMDguMDh2MTMuODRIMjB6Ii8+PHBhdGggZD0iTTEwIDEyLjUxTDcuNSA5LjUgNCAxNGgxNGwtNC41LTZ6Ii8+PC9nPjwvc3ZnPg==);width:62px;height:62px\"></div></div><div class=\"row _3n8db9\"><div class=\"row\"><p class=\"_2sc7ZR _2V5EHH\">Soumadip Mondal</p><svg class=\"_2a1p_T\" height=\"14\" viewbox=\"0 0 12 12\" width=\"14\" xmlns=\"http://www.w3.org/2000/svg\"><g><circle cx=\"6\" cy=\"6\" fill=\"#878787\" r=\"6\"></circle><path d=\"M3 6l2 2 4-4\" fill=\"#878787\" stroke=\"#FFF\" stroke-width=\"1.5\"></path></g></svg><p class=\"_2mcZGG\" id=\"review-60f916bd-712c-4fe6-8cbd-11a62a4c3179\"><span>Certified Buyer</span><span>, Durllabhganj</span></p><div></div><p class=\"_2sc7ZR\">4 months ago</p></div><div class=\"_1e9_Zu\"><div class=\"row\"><div class=\"_27aTsS\"><div class=\"_1LmwT9\"><svg class=\"skCrcq\" height=\"15\" width=\"20\" xmlns=\"http://www.w3.org/2000/svg\"><path class=\"_1LIt4y\" d=\"M9.58.006c-.41.043-.794.32-1.01.728-.277.557-2.334 4.693-2.74 5.1-.41.407-.944.6-1.544.6v8.572h7.5c.45 0 .835-.28 1.007-.665 0 0 2.207-6.234 2.207-6.834 0-.6-.47-1.072-1.07-1.072h-3.216c-.6 0-1.07-.535-1.07-1.07 0-.537.835-3.387 1.006-3.944.17-.557-.107-1.157-.664-1.35-.15-.043-.257-.086-.407-.064zM0 6.434v8.572h2.143V6.434H0z\" fill=\"#fff\" fill-rule=\"evenodd\"></path></svg><span class=\"_3c3Px5\">1296</span></div><div class=\"_1LmwT9 pkR4jH\"><svg class=\"skCrcq pkR4jH\" height=\"15\" width=\"20\" xmlns=\"http://www.w3.org/2000/svg\"><path class=\"_1LIt4y\" d=\"M9.58.006c-.41.043-.794.32-1.01.728-.277.557-2.334 4.693-2.74 5.1-.41.407-.944.6-1.544.6v8.572h7.5c.45 0 .835-.28 1.007-.665 0 0 2.207-6.234 2.207-6.834 0-.6-.47-1.072-1.07-1.072h-3.216c-.6 0-1.07-.535-1.07-1.07 0-.537.835-3.387 1.006-3.944.17-.557-.107-1.157-.664-1.35-.15-.043-.257-.086-.407-.064zM0 6.434v8.572h2.143V6.434H0z\" fill=\"#fff\" fill-rule=\"evenodd\"></path></svg><span class=\"_3c3Px5\">297</span></div></div><div class=\"_2bmov8\"><svg class=\"_2UvOBb\" height=\"11\" viewbox=\"0 0 16 27\" width=\"6\" xmlns=\"http://www.w3.org/2000/svg\"><path class=\"_2aPE6f\" d=\"M16 23.207L6.11 13.161 16 3.093 12.955 0 0 13.161l12.955 13.161z\" fill=\"#fff\"></path></svg><div class=\"_3E8aIl _38dCuf\"><div class=\"_3XCI6U\"><a href=\"/reviews/MOBGC9GYCHQZK9GW:4572?reviewId=60f916bd-712c-4fe6-8cbd-11a62a4c3179\"><span>Permalink</span></a></div><div class=\"_3XCI6U _2b2z-j\"><span>Report Abuse</span></div></div></div></div></div></div></div></div></div>,\n",
       " <div class=\"_16PBlm\"><div class=\"col\"><div class=\"col _2wzgFH\"><div class=\"row\"><div class=\"_3LWZlK _1BLPMq\">5<img class=\"_1wB99o\" src=\"data:image/svg+xml;base64,PHN2ZyB4bWxucz0iaHR0cDovL3d3dy53My5vcmcvMjAwMC9zdmciIHdpZHRoPSIxMyIgaGVpZ2h0PSIxMiI+PHBhdGggZmlsbD0iI0ZGRiIgZD0iTTYuNSA5LjQzOWwtMy42NzQgMi4yMy45NC00LjI2LTMuMjEtMi44ODMgNC4yNTQtLjQwNEw2LjUuMTEybDEuNjkgNC4wMSA0LjI1NC40MDQtMy4yMSAyLjg4Mi45NCA0LjI2eiIvPjwvc3ZnPg==\"/></div><p class=\"_2-N8zT\">Simply awesome</p></div><div class=\"row\"><div class=\"t-ZTKy\"><div><div class=\"\">Good phone very nice working and good performance nice look</div><span class=\"_1H-bmy\"><span>READ MORE</span></span></div></div></div><div class=\"_2nMSwX _3oLIki\"><div class=\"_21YjFX _2A07HP\" style=\"background-image:url(https://rukminim1.flixcart.com/blobio/124/124/imr-202208/blobio-imr-202208_9fab4e8d15c649638fa9f4ec3ef22680.jpg?q=90), url(data:image/svg+xml;base64,PHN2ZyB3aWR0aD0iMjIiIGhlaWdodD0iMTgiIHhtbG5zPSJodHRwOi8vd3d3LnczLm9yZy8yMDAwL3N2ZyI+PGcgZmlsbD0iIzlEOUQ5RCIgZmlsbC1ydWxlPSJub256ZXJvIj48cGF0aCBkPSJNMjAgMEgyQzEgMCAwIDEgMCAydjE0YzAgMS4xLjkgMiAyIDJoMThjMSAwIDItMSAyLTJWMmMwLTEtMS0yLTItMnptMCAxNS45MmMtLjAyLjAzLS4wNi4wNi0uMDguMDhIMlYyLjA4TDIuMDggMmgxNy44M2MuMDMuMDIuMDYuMDYuMDguMDh2MTMuODRIMjB6Ii8+PHBhdGggZD0iTTEwIDEyLjUxTDcuNSA5LjUgNCAxNGgxNGwtNC41LTZ6Ii8+PC9nPjwvc3ZnPg==);width:62px;height:62px\"></div><div class=\"_21YjFX _2A07HP\" style=\"background-image:url(https://rukminim1.flixcart.com/blobio/124/124/imr-202208/blobio-imr-202208_2e34ea5f4e4e4e7b9d293d8bc045f8da.jpg?q=90), url(data:image/svg+xml;base64,PHN2ZyB3aWR0aD0iMjIiIGhlaWdodD0iMTgiIHhtbG5zPSJodHRwOi8vd3d3LnczLm9yZy8yMDAwL3N2ZyI+PGcgZmlsbD0iIzlEOUQ5RCIgZmlsbC1ydWxlPSJub256ZXJvIj48cGF0aCBkPSJNMjAgMEgyQzEgMCAwIDEgMCAydjE0YzAgMS4xLjkgMiAyIDJoMThjMSAwIDItMSAyLTJWMmMwLTEtMS0yLTItMnptMCAxNS45MmMtLjAyLjAzLS4wNi4wNi0uMDguMDhIMlYyLjA4TDIuMDggMmgxNy44M2MuMDMuMDIuMDYuMDYuMDguMDh2MTMuODRIMjB6Ii8+PHBhdGggZD0iTTEwIDEyLjUxTDcuNSA5LjUgNCAxNGgxNGwtNC41LTZ6Ii8+PC9nPjwvc3ZnPg==);width:62px;height:62px\"></div><div class=\"_21YjFX _2A07HP\" style=\"background-image:url(https://rukminim1.flixcart.com/blobio/124/124/imr-202208/blobio-imr-202208_543fbff6a2e0424abcb7189d163194f5.jpg?q=90), url(data:image/svg+xml;base64,PHN2ZyB3aWR0aD0iMjIiIGhlaWdodD0iMTgiIHhtbG5zPSJodHRwOi8vd3d3LnczLm9yZy8yMDAwL3N2ZyI+PGcgZmlsbD0iIzlEOUQ5RCIgZmlsbC1ydWxlPSJub256ZXJvIj48cGF0aCBkPSJNMjAgMEgyQzEgMCAwIDEgMCAydjE0YzAgMS4xLjkgMiAyIDJoMThjMSAwIDItMSAyLTJWMmMwLTEtMS0yLTItMnptMCAxNS45MmMtLjAyLjAzLS4wNi4wNi0uMDguMDhIMlYyLjA4TDIuMDggMmgxNy44M2MuMDMuMDIuMDYuMDYuMDguMDh2MTMuODRIMjB6Ii8+PHBhdGggZD0iTTEwIDEyLjUxTDcuNSA5LjUgNCAxNGgxNGwtNC41LTZ6Ii8+PC9nPjwvc3ZnPg==);width:62px;height:62px\"></div></div><div class=\"row _3n8db9\"><div class=\"row\"><p class=\"_2sc7ZR _2V5EHH\">Kuldeep Singh</p><svg class=\"_2a1p_T\" height=\"14\" viewbox=\"0 0 12 12\" width=\"14\" xmlns=\"http://www.w3.org/2000/svg\"><g><circle cx=\"6\" cy=\"6\" fill=\"#878787\" r=\"6\"></circle><path d=\"M3 6l2 2 4-4\" fill=\"#878787\" stroke=\"#FFF\" stroke-width=\"1.5\"></path></g></svg><p class=\"_2mcZGG\" id=\"review-9071810f-42b2-408b-83bd-c9fa58c9211b\"><span>Certified Buyer</span><span>, Indore</span></p><div></div><p class=\"_2sc7ZR\">6 months ago</p></div><div class=\"_1e9_Zu\"><div class=\"row\"><div class=\"_27aTsS\"><div class=\"_1LmwT9\"><svg class=\"skCrcq\" height=\"15\" width=\"20\" xmlns=\"http://www.w3.org/2000/svg\"><path class=\"_1LIt4y\" d=\"M9.58.006c-.41.043-.794.32-1.01.728-.277.557-2.334 4.693-2.74 5.1-.41.407-.944.6-1.544.6v8.572h7.5c.45 0 .835-.28 1.007-.665 0 0 2.207-6.234 2.207-6.834 0-.6-.47-1.072-1.07-1.072h-3.216c-.6 0-1.07-.535-1.07-1.07 0-.537.835-3.387 1.006-3.944.17-.557-.107-1.157-.664-1.35-.15-.043-.257-.086-.407-.064zM0 6.434v8.572h2.143V6.434H0z\" fill=\"#fff\" fill-rule=\"evenodd\"></path></svg><span class=\"_3c3Px5\">2150</span></div><div class=\"_1LmwT9 pkR4jH\"><svg class=\"skCrcq pkR4jH\" height=\"15\" width=\"20\" xmlns=\"http://www.w3.org/2000/svg\"><path class=\"_1LIt4y\" d=\"M9.58.006c-.41.043-.794.32-1.01.728-.277.557-2.334 4.693-2.74 5.1-.41.407-.944.6-1.544.6v8.572h7.5c.45 0 .835-.28 1.007-.665 0 0 2.207-6.234 2.207-6.834 0-.6-.47-1.072-1.07-1.072h-3.216c-.6 0-1.07-.535-1.07-1.07 0-.537.835-3.387 1.006-3.944.17-.557-.107-1.157-.664-1.35-.15-.043-.257-.086-.407-.064zM0 6.434v8.572h2.143V6.434H0z\" fill=\"#fff\" fill-rule=\"evenodd\"></path></svg><span class=\"_3c3Px5\">575</span></div></div><div class=\"_2bmov8\"><svg class=\"_2UvOBb\" height=\"11\" viewbox=\"0 0 16 27\" width=\"6\" xmlns=\"http://www.w3.org/2000/svg\"><path class=\"_2aPE6f\" d=\"M16 23.207L6.11 13.161 16 3.093 12.955 0 0 13.161l12.955 13.161z\" fill=\"#fff\"></path></svg><div class=\"_3E8aIl _38dCuf\"><div class=\"_3XCI6U\"><a href=\"/reviews/MOBGC9GYQGGKWEU3:1060?reviewId=9071810f-42b2-408b-83bd-c9fa58c9211b\"><span>Permalink</span></a></div><div class=\"_3XCI6U _2b2z-j\"><span>Report Abuse</span></div></div></div></div></div></div></div></div></div>,\n",
       " <div class=\"_16PBlm _3_IKGE\"><div class=\"col\"><div class=\"col _2wzgFH\"><div class=\"row\"><div class=\"_3LWZlK _1BLPMq\">4<img class=\"_1wB99o\" src=\"data:image/svg+xml;base64,PHN2ZyB4bWxucz0iaHR0cDovL3d3dy53My5vcmcvMjAwMC9zdmciIHdpZHRoPSIxMyIgaGVpZ2h0PSIxMiI+PHBhdGggZmlsbD0iI0ZGRiIgZD0iTTYuNSA5LjQzOWwtMy42NzQgMi4yMy45NC00LjI2LTMuMjEtMi44ODMgNC4yNTQtLjQwNEw2LjUuMTEybDEuNjkgNC4wMSA0LjI1NC40MDQtMy4yMSAyLjg4Mi45NCA0LjI2eiIvPjwvc3ZnPg==\"/></div><p class=\"_2-N8zT\">Good quality product</p></div><div class=\"row\"><div class=\"t-ZTKy\"><div><div class=\"\">This phone camera is not good but you can use if you are a first phone buyer<br/>Battery is awesome after heavy use also not need to charge in a day <br/>Display also impresive in this segment HD+ 6.7inch quality was good<br/>Speaker is loud and clear no any problem<br/>Performance is sometimes not good you can play candy crush game but frame drops are so high, I think I am using right now 90hz panel bcoz i feel poco M4 pro .<br/>Now your i first smartphone buyer this phone is great</div><span class=\"_1H-bmy\"><span>READ MORE</span></span></div></div></div><div class=\"_2nMSwX _3oLIki\"><div class=\"_21YjFX _2A07HP\" style=\"background-image:url(https://rukminim1.flixcart.com/blobio/124/124/imr-202206/blobio-imr-202206_1ea8a09889d04587900cdc78b16000df.jpg?q=90), url(data:image/svg+xml;base64,PHN2ZyB3aWR0aD0iMjIiIGhlaWdodD0iMTgiIHhtbG5zPSJodHRwOi8vd3d3LnczLm9yZy8yMDAwL3N2ZyI+PGcgZmlsbD0iIzlEOUQ5RCIgZmlsbC1ydWxlPSJub256ZXJvIj48cGF0aCBkPSJNMjAgMEgyQzEgMCAwIDEgMCAydjE0YzAgMS4xLjkgMiAyIDJoMThjMSAwIDItMSAyLTJWMmMwLTEtMS0yLTItMnptMCAxNS45MmMtLjAyLjAzLS4wNi4wNi0uMDguMDhIMlYyLjA4TDIuMDggMmgxNy44M2MuMDMuMDIuMDYuMDYuMDguMDh2MTMuODRIMjB6Ii8+PHBhdGggZD0iTTEwIDEyLjUxTDcuNSA5LjUgNCAxNGgxNGwtNC41LTZ6Ii8+PC9nPjwvc3ZnPg==);width:62px;height:62px\"></div><div class=\"_21YjFX _2A07HP\" style=\"background-image:url(https://rukminim1.flixcart.com/blobio/124/124/imr-202206/blobio-imr-202206_7d54c44d3cac45fc8ea343d985e5173b.jpg?q=90), url(data:image/svg+xml;base64,PHN2ZyB3aWR0aD0iMjIiIGhlaWdodD0iMTgiIHhtbG5zPSJodHRwOi8vd3d3LnczLm9yZy8yMDAwL3N2ZyI+PGcgZmlsbD0iIzlEOUQ5RCIgZmlsbC1ydWxlPSJub256ZXJvIj48cGF0aCBkPSJNMjAgMEgyQzEgMCAwIDEgMCAydjE0YzAgMS4xLjkgMiAyIDJoMThjMSAwIDItMSAyLTJWMmMwLTEtMS0yLTItMnptMCAxNS45MmMtLjAyLjAzLS4wNi4wNi0uMDguMDhIMlYyLjA4TDIuMDggMmgxNy44M2MuMDMuMDIuMDYuMDYuMDguMDh2MTMuODRIMjB6Ii8+PHBhdGggZD0iTTEwIDEyLjUxTDcuNSA5LjUgNCAxNGgxNGwtNC41LTZ6Ii8+PC9nPjwvc3ZnPg==);width:62px;height:62px\"></div></div><div class=\"row _3n8db9\"><div class=\"row\"><p class=\"_2sc7ZR _2V5EHH\">Nilesh  Gaidhani</p><svg class=\"_2a1p_T\" height=\"14\" viewbox=\"0 0 12 12\" width=\"14\" xmlns=\"http://www.w3.org/2000/svg\"><g><circle cx=\"6\" cy=\"6\" fill=\"#878787\" r=\"6\"></circle><path d=\"M3 6l2 2 4-4\" fill=\"#878787\" stroke=\"#FFF\" stroke-width=\"1.5\"></path></g></svg><p class=\"_2mcZGG\" id=\"review-dc271af8-bc17-48ff-b645-88994fe63135\"><span>Certified Buyer</span><span>, Nashik</span></p><div></div><p class=\"_2sc7ZR\">8 months ago</p></div><div class=\"_1e9_Zu\"><div class=\"row\"><div class=\"_27aTsS\"><div class=\"_1LmwT9\"><svg class=\"skCrcq\" height=\"15\" width=\"20\" xmlns=\"http://www.w3.org/2000/svg\"><path class=\"_1LIt4y\" d=\"M9.58.006c-.41.043-.794.32-1.01.728-.277.557-2.334 4.693-2.74 5.1-.41.407-.944.6-1.544.6v8.572h7.5c.45 0 .835-.28 1.007-.665 0 0 2.207-6.234 2.207-6.834 0-.6-.47-1.072-1.07-1.072h-3.216c-.6 0-1.07-.535-1.07-1.07 0-.537.835-3.387 1.006-3.944.17-.557-.107-1.157-.664-1.35-.15-.043-.257-.086-.407-.064zM0 6.434v8.572h2.143V6.434H0z\" fill=\"#fff\" fill-rule=\"evenodd\"></path></svg><span class=\"_3c3Px5\">1386</span></div><div class=\"_1LmwT9 pkR4jH\"><svg class=\"skCrcq pkR4jH\" height=\"15\" width=\"20\" xmlns=\"http://www.w3.org/2000/svg\"><path class=\"_1LIt4y\" d=\"M9.58.006c-.41.043-.794.32-1.01.728-.277.557-2.334 4.693-2.74 5.1-.41.407-.944.6-1.544.6v8.572h7.5c.45 0 .835-.28 1.007-.665 0 0 2.207-6.234 2.207-6.834 0-.6-.47-1.072-1.07-1.072h-3.216c-.6 0-1.07-.535-1.07-1.07 0-.537.835-3.387 1.006-3.944.17-.557-.107-1.157-.664-1.35-.15-.043-.257-.086-.407-.064zM0 6.434v8.572h2.143V6.434H0z\" fill=\"#fff\" fill-rule=\"evenodd\"></path></svg><span class=\"_3c3Px5\">373</span></div></div><div class=\"_2bmov8\"><svg class=\"_2UvOBb\" height=\"11\" viewbox=\"0 0 16 27\" width=\"6\" xmlns=\"http://www.w3.org/2000/svg\"><path class=\"_2aPE6f\" d=\"M16 23.207L6.11 13.161 16 3.093 12.955 0 0 13.161l12.955 13.161z\" fill=\"#fff\"></path></svg><div class=\"_3E8aIl _38dCuf\"><div class=\"_3XCI6U\"><a href=\"/reviews/MOBGC9GYQGGKWEU3:680?reviewId=dc271af8-bc17-48ff-b645-88994fe63135\"><span>Permalink</span></a></div><div class=\"_3XCI6U _2b2z-j\"><span>Report Abuse</span></div></div></div></div></div></div></div></div></div>,\n",
       " <div class=\"_16PBlm _3_IKGE\"><div class=\"col\"><div class=\"col _2wzgFH\"><div class=\"row\"><div class=\"_3LWZlK _1BLPMq\">5<img class=\"_1wB99o\" src=\"data:image/svg+xml;base64,PHN2ZyB4bWxucz0iaHR0cDovL3d3dy53My5vcmcvMjAwMC9zdmciIHdpZHRoPSIxMyIgaGVpZ2h0PSIxMiI+PHBhdGggZmlsbD0iI0ZGRiIgZD0iTTYuNSA5LjQzOWwtMy42NzQgMi4yMy45NC00LjI2LTMuMjEtMi44ODMgNC4yNTQtLjQwNEw2LjUuMTEybDEuNjkgNC4wMSA0LjI1NC40MDQtMy4yMSAyLjg4Mi45NCA0LjI2eiIvPjwvc3ZnPg==\"/></div><p class=\"_2-N8zT\">Best in the market!</p></div><div class=\"row\"><div class=\"t-ZTKy\"><div><div class=\"\">Better backup osm ans camere clarity is very good 😊 i am happy for this product bec this product is excellent and this budget price is good  very happy 😁</div><span class=\"_1H-bmy\"><span>READ MORE</span></span></div></div></div><div class=\"_2nMSwX _3oLIki\"><div class=\"_21YjFX _2A07HP\" style=\"background-image:url(https://rukminim1.flixcart.com/blobio/124/124/imr/blobio-imr_ef714aea73d8478cbe4b9ffa4e6b98a0.jpg?q=90), url(data:image/svg+xml;base64,PHN2ZyB3aWR0aD0iMjIiIGhlaWdodD0iMTgiIHhtbG5zPSJodHRwOi8vd3d3LnczLm9yZy8yMDAwL3N2ZyI+PGcgZmlsbD0iIzlEOUQ5RCIgZmlsbC1ydWxlPSJub256ZXJvIj48cGF0aCBkPSJNMjAgMEgyQzEgMCAwIDEgMCAydjE0YzAgMS4xLjkgMiAyIDJoMThjMSAwIDItMSAyLTJWMmMwLTEtMS0yLTItMnptMCAxNS45MmMtLjAyLjAzLS4wNi4wNi0uMDguMDhIMlYyLjA4TDIuMDggMmgxNy44M2MuMDMuMDIuMDYuMDYuMDguMDh2MTMuODRIMjB6Ii8+PHBhdGggZD0iTTEwIDEyLjUxTDcuNSA5LjUgNCAxNGgxNGwtNC41LTZ6Ii8+PC9nPjwvc3ZnPg==);width:62px;height:62px\"></div><div class=\"_21YjFX _2A07HP\" style=\"background-image:url(https://rukminim1.flixcart.com/blobio/124/124/imr/blobio-imr_ce33e45ffe6d4e65a1d1d2f774c69fbd.jpg?q=90), url(data:image/svg+xml;base64,PHN2ZyB3aWR0aD0iMjIiIGhlaWdodD0iMTgiIHhtbG5zPSJodHRwOi8vd3d3LnczLm9yZy8yMDAwL3N2ZyI+PGcgZmlsbD0iIzlEOUQ5RCIgZmlsbC1ydWxlPSJub256ZXJvIj48cGF0aCBkPSJNMjAgMEgyQzEgMCAwIDEgMCAydjE0YzAgMS4xLjkgMiAyIDJoMThjMSAwIDItMSAyLTJWMmMwLTEtMS0yLTItMnptMCAxNS45MmMtLjAyLjAzLS4wNi4wNi0uMDguMDhIMlYyLjA4TDIuMDggMmgxNy44M2MuMDMuMDIuMDYuMDYuMDguMDh2MTMuODRIMjB6Ii8+PHBhdGggZD0iTTEwIDEyLjUxTDcuNSA5LjUgNCAxNGgxNGwtNC41LTZ6Ii8+PC9nPjwvc3ZnPg==);width:62px;height:62px\"></div></div><div class=\"row _3n8db9\"><div class=\"row\"><p class=\"_2sc7ZR _2V5EHH\">Flipkart Customer</p><svg class=\"_2a1p_T\" height=\"14\" viewbox=\"0 0 12 12\" width=\"14\" xmlns=\"http://www.w3.org/2000/svg\"><g><circle cx=\"6\" cy=\"6\" fill=\"#878787\" r=\"6\"></circle><path d=\"M3 6l2 2 4-4\" fill=\"#878787\" stroke=\"#FFF\" stroke-width=\"1.5\"></path></g></svg><p class=\"_2mcZGG\" id=\"review-05a95c25-eacd-4196-9e36-bf717f51fdbf\"><span>Certified Buyer</span><span>, Mumbai</span></p><div></div><p class=\"_2sc7ZR\">4 months ago</p></div><div class=\"_1e9_Zu\"><div class=\"row\"><div class=\"_27aTsS\"><div class=\"_1LmwT9\"><svg class=\"skCrcq\" height=\"15\" width=\"20\" xmlns=\"http://www.w3.org/2000/svg\"><path class=\"_1LIt4y\" d=\"M9.58.006c-.41.043-.794.32-1.01.728-.277.557-2.334 4.693-2.74 5.1-.41.407-.944.6-1.544.6v8.572h7.5c.45 0 .835-.28 1.007-.665 0 0 2.207-6.234 2.207-6.834 0-.6-.47-1.072-1.07-1.072h-3.216c-.6 0-1.07-.535-1.07-1.07 0-.537.835-3.387 1.006-3.944.17-.557-.107-1.157-.664-1.35-.15-.043-.257-.086-.407-.064zM0 6.434v8.572h2.143V6.434H0z\" fill=\"#fff\" fill-rule=\"evenodd\"></path></svg><span class=\"_3c3Px5\">408</span></div><div class=\"_1LmwT9 pkR4jH\"><svg class=\"skCrcq pkR4jH\" height=\"15\" width=\"20\" xmlns=\"http://www.w3.org/2000/svg\"><path class=\"_1LIt4y\" d=\"M9.58.006c-.41.043-.794.32-1.01.728-.277.557-2.334 4.693-2.74 5.1-.41.407-.944.6-1.544.6v8.572h7.5c.45 0 .835-.28 1.007-.665 0 0 2.207-6.234 2.207-6.834 0-.6-.47-1.072-1.07-1.072h-3.216c-.6 0-1.07-.535-1.07-1.07 0-.537.835-3.387 1.006-3.944.17-.557-.107-1.157-.664-1.35-.15-.043-.257-.086-.407-.064zM0 6.434v8.572h2.143V6.434H0z\" fill=\"#fff\" fill-rule=\"evenodd\"></path></svg><span class=\"_3c3Px5\">112</span></div></div><div class=\"_2bmov8\"><svg class=\"_2UvOBb\" height=\"11\" viewbox=\"0 0 16 27\" width=\"6\" xmlns=\"http://www.w3.org/2000/svg\"><path class=\"_2aPE6f\" d=\"M16 23.207L6.11 13.161 16 3.093 12.955 0 0 13.161l12.955 13.161z\" fill=\"#fff\"></path></svg><div class=\"_3E8aIl _38dCuf\"><div class=\"_3XCI6U\"><a href=\"/reviews/MOBGC9GYEBH3GZ4E:1868?reviewId=05a95c25-eacd-4196-9e36-bf717f51fdbf\"><span>Permalink</span></a></div><div class=\"_3XCI6U _2b2z-j\"><span>Report Abuse</span></div></div></div></div></div></div></div></div></div>,\n",
       " <div class=\"_16PBlm _3_IKGE\"><div class=\"col\"><div class=\"col _2wzgFH\"><div class=\"row\"><div class=\"_3LWZlK _1BLPMq\">5<img class=\"_1wB99o\" src=\"data:image/svg+xml;base64,PHN2ZyB4bWxucz0iaHR0cDovL3d3dy53My5vcmcvMjAwMC9zdmciIHdpZHRoPSIxMyIgaGVpZ2h0PSIxMiI+PHBhdGggZmlsbD0iI0ZGRiIgZD0iTTYuNSA5LjQzOWwtMy42NzQgMi4yMy45NC00LjI2LTMuMjEtMi44ODMgNC4yNTQtLjQwNEw2LjUuMTEybDEuNjkgNC4wMSA0LjI1NC40MDQtMy4yMSAyLjg4Mi45NCA0LjI2eiIvPjwvc3ZnPg==\"/></div><p class=\"_2-N8zT\">Wonderful</p></div><div class=\"row\"><div class=\"t-ZTKy\"><div><div class=\"\">Mobile is best in this price range<br/>Processor Qualcomm Snapdragon 680 is really powerful for multitasking and gaming<br/>Camera 📷 Night mode is amazing 🤩<br/>Battery life is outstanding fabulous performance<br/>Real 6000 Mah<br/>Overall excellent performance<br/>5 star for Flipkart services</div><span class=\"_1H-bmy\"><span>READ MORE</span></span></div></div></div><div class=\"_2nMSwX _3oLIki\"><div class=\"_21YjFX _2A07HP\" style=\"background-image:url(https://rukminim1.flixcart.com/blobio/124/124/imr-202207/blobio-imr-202207_62ee69bded874bc48b98abeb35f1e7e1.jpg?q=90), url(data:image/svg+xml;base64,PHN2ZyB3aWR0aD0iMjIiIGhlaWdodD0iMTgiIHhtbG5zPSJodHRwOi8vd3d3LnczLm9yZy8yMDAwL3N2ZyI+PGcgZmlsbD0iIzlEOUQ5RCIgZmlsbC1ydWxlPSJub256ZXJvIj48cGF0aCBkPSJNMjAgMEgyQzEgMCAwIDEgMCAydjE0YzAgMS4xLjkgMiAyIDJoMThjMSAwIDItMSAyLTJWMmMwLTEtMS0yLTItMnptMCAxNS45MmMtLjAyLjAzLS4wNi4wNi0uMDguMDhIMlYyLjA4TDIuMDggMmgxNy44M2MuMDMuMDIuMDYuMDYuMDguMDh2MTMuODRIMjB6Ii8+PHBhdGggZD0iTTEwIDEyLjUxTDcuNSA5LjUgNCAxNGgxNGwtNC41LTZ6Ii8+PC9nPjwvc3ZnPg==);width:62px;height:62px\"></div></div><div class=\"row _3n8db9\"><div class=\"row\"><p class=\"_2sc7ZR _2V5EHH\">Rahul Dhochak</p><svg class=\"_2a1p_T\" height=\"14\" viewbox=\"0 0 12 12\" width=\"14\" xmlns=\"http://www.w3.org/2000/svg\"><g><circle cx=\"6\" cy=\"6\" fill=\"#878787\" r=\"6\"></circle><path d=\"M3 6l2 2 4-4\" fill=\"#878787\" stroke=\"#FFF\" stroke-width=\"1.5\"></path></g></svg><p class=\"_2mcZGG\" id=\"review-021c2447-d59a-46ea-988e-34ec7ff4b66a\"><span>Certified Buyer</span><span>, Julana</span></p><div></div><p class=\"_2sc7ZR\">6 months ago</p></div><div class=\"_1e9_Zu\"><div class=\"row\"><div class=\"_27aTsS\"><div class=\"_1LmwT9\"><svg class=\"skCrcq\" height=\"15\" width=\"20\" xmlns=\"http://www.w3.org/2000/svg\"><path class=\"_1LIt4y\" d=\"M9.58.006c-.41.043-.794.32-1.01.728-.277.557-2.334 4.693-2.74 5.1-.41.407-.944.6-1.544.6v8.572h7.5c.45 0 .835-.28 1.007-.665 0 0 2.207-6.234 2.207-6.834 0-.6-.47-1.072-1.07-1.072h-3.216c-.6 0-1.07-.535-1.07-1.07 0-.537.835-3.387 1.006-3.944.17-.557-.107-1.157-.664-1.35-.15-.043-.257-.086-.407-.064zM0 6.434v8.572h2.143V6.434H0z\" fill=\"#fff\" fill-rule=\"evenodd\"></path></svg><span class=\"_3c3Px5\">202</span></div><div class=\"_1LmwT9 pkR4jH\"><svg class=\"skCrcq pkR4jH\" height=\"15\" width=\"20\" xmlns=\"http://www.w3.org/2000/svg\"><path class=\"_1LIt4y\" d=\"M9.58.006c-.41.043-.794.32-1.01.728-.277.557-2.334 4.693-2.74 5.1-.41.407-.944.6-1.544.6v8.572h7.5c.45 0 .835-.28 1.007-.665 0 0 2.207-6.234 2.207-6.834 0-.6-.47-1.072-1.07-1.072h-3.216c-.6 0-1.07-.535-1.07-1.07 0-.537.835-3.387 1.006-3.944.17-.557-.107-1.157-.664-1.35-.15-.043-.257-.086-.407-.064zM0 6.434v8.572h2.143V6.434H0z\" fill=\"#fff\" fill-rule=\"evenodd\"></path></svg><span class=\"_3c3Px5\">52</span></div></div><div class=\"_2bmov8\"><svg class=\"_2UvOBb\" height=\"11\" viewbox=\"0 0 16 27\" width=\"6\" xmlns=\"http://www.w3.org/2000/svg\"><path class=\"_2aPE6f\" d=\"M16 23.207L6.11 13.161 16 3.093 12.955 0 0 13.161l12.955 13.161z\" fill=\"#fff\"></path></svg><div class=\"_3E8aIl _38dCuf\"><div class=\"_3XCI6U\"><a href=\"/reviews/MOBGC9GYEBH3GZ4E:1248?reviewId=021c2447-d59a-46ea-988e-34ec7ff4b66a\"><span>Permalink</span></a></div><div class=\"_3XCI6U _2b2z-j\"><span>Report Abuse</span></div></div></div></div></div></div></div></div></div>,\n",
       " <div class=\"_16PBlm _3_IKGE\"><div class=\"col\"><div class=\"col _2wzgFH\"><div class=\"row\"><div class=\"_3LWZlK _1BLPMq\">5<img class=\"_1wB99o\" src=\"data:image/svg+xml;base64,PHN2ZyB4bWxucz0iaHR0cDovL3d3dy53My5vcmcvMjAwMC9zdmciIHdpZHRoPSIxMyIgaGVpZ2h0PSIxMiI+PHBhdGggZmlsbD0iI0ZGRiIgZD0iTTYuNSA5LjQzOWwtMy42NzQgMi4yMy45NC00LjI2LTMuMjEtMi44ODMgNC4yNTQtLjQwNEw2LjUuMTEybDEuNjkgNC4wMSA0LjI1NC40MDQtMy4yMSAyLjg4Mi45NCA0LjI2eiIvPjwvc3ZnPg==\"/></div><p class=\"_2-N8zT\">Wonderful</p></div><div class=\"row\"><div class=\"t-ZTKy\"><div><div class=\"\">I m a regular customer of Mi ...redmi 10is awesome 👍. It's charging is very fast ...i m giving this review after 2 months ....i m satisfied with this ...plz go for this guys ..really awesome 👍 products...thanks Flipkart</div><span class=\"_1H-bmy\"><span>READ MORE</span></span></div></div></div><div class=\"_2nMSwX _3oLIki\"><div class=\"_21YjFX _2A07HP\" style=\"background-image:url(https://rukminim1.flixcart.com/blobio/124/124/imr-202207/blobio-imr-202207_7881d6bd16c24af788c242446242a5df.jpg?q=90), url(data:image/svg+xml;base64,PHN2ZyB3aWR0aD0iMjIiIGhlaWdodD0iMTgiIHhtbG5zPSJodHRwOi8vd3d3LnczLm9yZy8yMDAwL3N2ZyI+PGcgZmlsbD0iIzlEOUQ5RCIgZmlsbC1ydWxlPSJub256ZXJvIj48cGF0aCBkPSJNMjAgMEgyQzEgMCAwIDEgMCAydjE0YzAgMS4xLjkgMiAyIDJoMThjMSAwIDItMSAyLTJWMmMwLTEtMS0yLTItMnptMCAxNS45MmMtLjAyLjAzLS4wNi4wNi0uMDguMDhIMlYyLjA4TDIuMDggMmgxNy44M2MuMDMuMDIuMDYuMDYuMDguMDh2MTMuODRIMjB6Ii8+PHBhdGggZD0iTTEwIDEyLjUxTDcuNSA5LjUgNCAxNGgxNGwtNC41LTZ6Ii8+PC9nPjwvc3ZnPg==);width:62px;height:62px\"></div><div class=\"_21YjFX _2A07HP\" style=\"background-image:url(https://rukminim1.flixcart.com/blobio/124/124/imr-202207/blobio-imr-202207_1a377f82da7143d2b51e4dfb9de4b065.jpg?q=90), url(data:image/svg+xml;base64,PHN2ZyB3aWR0aD0iMjIiIGhlaWdodD0iMTgiIHhtbG5zPSJodHRwOi8vd3d3LnczLm9yZy8yMDAwL3N2ZyI+PGcgZmlsbD0iIzlEOUQ5RCIgZmlsbC1ydWxlPSJub256ZXJvIj48cGF0aCBkPSJNMjAgMEgyQzEgMCAwIDEgMCAydjE0YzAgMS4xLjkgMiAyIDJoMThjMSAwIDItMSAyLTJWMmMwLTEtMS0yLTItMnptMCAxNS45MmMtLjAyLjAzLS4wNi4wNi0uMDguMDhIMlYyLjA4TDIuMDggMmgxNy44M2MuMDMuMDIuMDYuMDYuMDguMDh2MTMuODRIMjB6Ii8+PHBhdGggZD0iTTEwIDEyLjUxTDcuNSA5LjUgNCAxNGgxNGwtNC41LTZ6Ii8+PC9nPjwvc3ZnPg==);width:62px;height:62px\"></div><div class=\"_21YjFX _2A07HP\" style=\"background-image:url(https://rukminim1.flixcart.com/blobio/124/124/imr-202207/blobio-imr-202207_a6dc60cba6574cb5bfcec510b2d54350.jpg?q=90), url(data:image/svg+xml;base64,PHN2ZyB3aWR0aD0iMjIiIGhlaWdodD0iMTgiIHhtbG5zPSJodHRwOi8vd3d3LnczLm9yZy8yMDAwL3N2ZyI+PGcgZmlsbD0iIzlEOUQ5RCIgZmlsbC1ydWxlPSJub256ZXJvIj48cGF0aCBkPSJNMjAgMEgyQzEgMCAwIDEgMCAydjE0YzAgMS4xLjkgMiAyIDJoMThjMSAwIDItMSAyLTJWMmMwLTEtMS0yLTItMnptMCAxNS45MmMtLjAyLjAzLS4wNi4wNi0uMDguMDhIMlYyLjA4TDIuMDggMmgxNy44M2MuMDMuMDIuMDYuMDYuMDguMDh2MTMuODRIMjB6Ii8+PHBhdGggZD0iTTEwIDEyLjUxTDcuNSA5LjUgNCAxNGgxNGwtNC41LTZ6Ii8+PC9nPjwvc3ZnPg==);width:62px;height:62px\"></div></div><div class=\"row _3n8db9\"><div class=\"row\"><p class=\"_2sc7ZR _2V5EHH\">nitish gaurav</p><svg class=\"_2a1p_T\" height=\"14\" viewbox=\"0 0 12 12\" width=\"14\" xmlns=\"http://www.w3.org/2000/svg\"><g><circle cx=\"6\" cy=\"6\" fill=\"#878787\" r=\"6\"></circle><path d=\"M3 6l2 2 4-4\" fill=\"#878787\" stroke=\"#FFF\" stroke-width=\"1.5\"></path></g></svg><p class=\"_2mcZGG\" id=\"review-e2ffb9fb-6e2a-4815-b11f-59ed3897e05b\"><span>Certified Buyer</span><span>, Saran</span></p><div></div><p class=\"_2sc7ZR\">7 months ago</p></div><div class=\"_1e9_Zu\"><div class=\"row\"><div class=\"_27aTsS\"><div class=\"_1LmwT9\"><svg class=\"skCrcq\" height=\"15\" width=\"20\" xmlns=\"http://www.w3.org/2000/svg\"><path class=\"_1LIt4y\" d=\"M9.58.006c-.41.043-.794.32-1.01.728-.277.557-2.334 4.693-2.74 5.1-.41.407-.944.6-1.544.6v8.572h7.5c.45 0 .835-.28 1.007-.665 0 0 2.207-6.234 2.207-6.834 0-.6-.47-1.072-1.07-1.072h-3.216c-.6 0-1.07-.535-1.07-1.07 0-.537.835-3.387 1.006-3.944.17-.557-.107-1.157-.664-1.35-.15-.043-.257-.086-.407-.064zM0 6.434v8.572h2.143V6.434H0z\" fill=\"#fff\" fill-rule=\"evenodd\"></path></svg><span class=\"_3c3Px5\">1912</span></div><div class=\"_1LmwT9 pkR4jH\"><svg class=\"skCrcq pkR4jH\" height=\"15\" width=\"20\" xmlns=\"http://www.w3.org/2000/svg\"><path class=\"_1LIt4y\" d=\"M9.58.006c-.41.043-.794.32-1.01.728-.277.557-2.334 4.693-2.74 5.1-.41.407-.944.6-1.544.6v8.572h7.5c.45 0 .835-.28 1.007-.665 0 0 2.207-6.234 2.207-6.834 0-.6-.47-1.072-1.07-1.072h-3.216c-.6 0-1.07-.535-1.07-1.07 0-.537.835-3.387 1.006-3.944.17-.557-.107-1.157-.664-1.35-.15-.043-.257-.086-.407-.064zM0 6.434v8.572h2.143V6.434H0z\" fill=\"#fff\" fill-rule=\"evenodd\"></path></svg><span class=\"_3c3Px5\">622</span></div></div><div class=\"_2bmov8\"><svg class=\"_2UvOBb\" height=\"11\" viewbox=\"0 0 16 27\" width=\"6\" xmlns=\"http://www.w3.org/2000/svg\"><path class=\"_2aPE6f\" d=\"M16 23.207L6.11 13.161 16 3.093 12.955 0 0 13.161l12.955 13.161z\" fill=\"#fff\"></path></svg><div class=\"_3E8aIl _38dCuf\"><div class=\"_3XCI6U\"><a href=\"/reviews/MOBGC9GYQGGKWEU3:952?reviewId=e2ffb9fb-6e2a-4815-b11f-59ed3897e05b\"><span>Permalink</span></a></div><div class=\"_3XCI6U _2b2z-j\"><span>Report Abuse</span></div></div></div></div></div></div></div></div></div>,\n",
       " <div class=\"_16PBlm _3_IKGE\"><div class=\"col\"><div class=\"col _2wzgFH\"><div class=\"row\"><div class=\"_3LWZlK _1BLPMq\">5<img class=\"_1wB99o\" src=\"data:image/svg+xml;base64,PHN2ZyB4bWxucz0iaHR0cDovL3d3dy53My5vcmcvMjAwMC9zdmciIHdpZHRoPSIxMyIgaGVpZ2h0PSIxMiI+PHBhdGggZmlsbD0iI0ZGRiIgZD0iTTYuNSA5LjQzOWwtMy42NzQgMi4yMy45NC00LjI2LTMuMjEtMi44ODMgNC4yNTQtLjQwNEw2LjUuMTEybDEuNjkgNC4wMSA0LjI1NC40MDQtMy4yMSAyLjg4Mi45NCA0LjI2eiIvPjwvc3ZnPg==\"/></div><p class=\"_2-N8zT\">Brilliant</p></div><div class=\"row\"><div class=\"t-ZTKy\"><div><div class=\"\">Awesome 😎 Product Redmi has made cool phone this phone camera clicks a photo with HDR which will rock . And performance is the main thing in redmi . Front camera is 🤳 5 mega pixel but comes like 18 mega pixel. Although Redmi 10 is rocking phone.</div><span class=\"_1H-bmy\"><span>READ MORE</span></span></div></div></div><div class=\"_2nMSwX _3oLIki\"><div class=\"_21YjFX _2A07HP\" style=\"background-image:url(https://rukminim1.flixcart.com/blobio/124/124/imr-202204/blobio-imr-202204_d88953d5ebd3486180133e13da06e991.jpg?q=90), url(data:image/svg+xml;base64,PHN2ZyB3aWR0aD0iMjIiIGhlaWdodD0iMTgiIHhtbG5zPSJodHRwOi8vd3d3LnczLm9yZy8yMDAwL3N2ZyI+PGcgZmlsbD0iIzlEOUQ5RCIgZmlsbC1ydWxlPSJub256ZXJvIj48cGF0aCBkPSJNMjAgMEgyQzEgMCAwIDEgMCAydjE0YzAgMS4xLjkgMiAyIDJoMThjMSAwIDItMSAyLTJWMmMwLTEtMS0yLTItMnptMCAxNS45MmMtLjAyLjAzLS4wNi4wNi0uMDguMDhIMlYyLjA4TDIuMDggMmgxNy44M2MuMDMuMDIuMDYuMDYuMDguMDh2MTMuODRIMjB6Ii8+PHBhdGggZD0iTTEwIDEyLjUxTDcuNSA5LjUgNCAxNGgxNGwtNC41LTZ6Ii8+PC9nPjwvc3ZnPg==);width:62px;height:62px\"></div></div><div class=\"row _3n8db9\"><div class=\"row\"><p class=\"_2sc7ZR _2V5EHH\">Deepak kumar Shrivastava</p><svg class=\"_2a1p_T\" height=\"14\" viewbox=\"0 0 12 12\" width=\"14\" xmlns=\"http://www.w3.org/2000/svg\"><g><circle cx=\"6\" cy=\"6\" fill=\"#878787\" r=\"6\"></circle><path d=\"M3 6l2 2 4-4\" fill=\"#878787\" stroke=\"#FFF\" stroke-width=\"1.5\"></path></g></svg><p class=\"_2mcZGG\" id=\"review-f5a6081d-7da9-463d-a837-de2472c0e9ae\"><span>Certified Buyer</span><span>, Ahmedabad</span></p><div></div><p class=\"_2sc7ZR\">10 months ago</p></div><div class=\"_1e9_Zu\"><div class=\"row\"><div class=\"_27aTsS\"><div class=\"_1LmwT9\"><svg class=\"skCrcq\" height=\"15\" width=\"20\" xmlns=\"http://www.w3.org/2000/svg\"><path class=\"_1LIt4y\" d=\"M9.58.006c-.41.043-.794.32-1.01.728-.277.557-2.334 4.693-2.74 5.1-.41.407-.944.6-1.544.6v8.572h7.5c.45 0 .835-.28 1.007-.665 0 0 2.207-6.234 2.207-6.834 0-.6-.47-1.072-1.07-1.072h-3.216c-.6 0-1.07-.535-1.07-1.07 0-.537.835-3.387 1.006-3.944.17-.557-.107-1.157-.664-1.35-.15-.043-.257-.086-.407-.064zM0 6.434v8.572h2.143V6.434H0z\" fill=\"#fff\" fill-rule=\"evenodd\"></path></svg><span class=\"_3c3Px5\">1498</span></div><div class=\"_1LmwT9 pkR4jH\"><svg class=\"skCrcq pkR4jH\" height=\"15\" width=\"20\" xmlns=\"http://www.w3.org/2000/svg\"><path class=\"_1LIt4y\" d=\"M9.58.006c-.41.043-.794.32-1.01.728-.277.557-2.334 4.693-2.74 5.1-.41.407-.944.6-1.544.6v8.572h7.5c.45 0 .835-.28 1.007-.665 0 0 2.207-6.234 2.207-6.834 0-.6-.47-1.072-1.07-1.072h-3.216c-.6 0-1.07-.535-1.07-1.07 0-.537.835-3.387 1.006-3.944.17-.557-.107-1.157-.664-1.35-.15-.043-.257-.086-.407-.064zM0 6.434v8.572h2.143V6.434H0z\" fill=\"#fff\" fill-rule=\"evenodd\"></path></svg><span class=\"_3c3Px5\">529</span></div></div><div class=\"_2bmov8\"><svg class=\"_2UvOBb\" height=\"11\" viewbox=\"0 0 16 27\" width=\"6\" xmlns=\"http://www.w3.org/2000/svg\"><path class=\"_2aPE6f\" d=\"M16 23.207L6.11 13.161 16 3.093 12.955 0 0 13.161l12.955 13.161z\" fill=\"#fff\"></path></svg><div class=\"_3E8aIl _38dCuf\"><div class=\"_3XCI6U\"><a href=\"/reviews/MOBGC9GYCHQZK9GW:204?reviewId=f5a6081d-7da9-463d-a837-de2472c0e9ae\"><span>Permalink</span></a></div><div class=\"_3XCI6U _2b2z-j\"><span>Report Abuse</span></div></div></div></div></div></div></div></div></div>,\n",
       " <div class=\"_16PBlm _3_IKGE\"><div class=\"col\"><div class=\"col _2wzgFH\"><div class=\"row\"><div class=\"_3LWZlK _1BLPMq\">4<img class=\"_1wB99o\" src=\"data:image/svg+xml;base64,PHN2ZyB4bWxucz0iaHR0cDovL3d3dy53My5vcmcvMjAwMC9zdmciIHdpZHRoPSIxMyIgaGVpZ2h0PSIxMiI+PHBhdGggZmlsbD0iI0ZGRiIgZD0iTTYuNSA5LjQzOWwtMy42NzQgMi4yMy45NC00LjI2LTMuMjEtMi44ODMgNC4yNTQtLjQwNEw2LjUuMTEybDEuNjkgNC4wMSA0LjI1NC40MDQtMy4yMSAyLjg4Mi45NCA0LjI2eiIvPjwvc3ZnPg==\"/></div><p class=\"_2-N8zT\">Wonderful</p></div><div class=\"row\"><div class=\"t-ZTKy\"><div><div class=\"\">Faster delivery,<br/>The Smartphone is budget and has spec that is Value for money, It is balanced in that area. Performance is good for the price. Battery is also good. But the software or UI experience is mostly trash.</div><span class=\"_1H-bmy\"><span>READ MORE</span></span></div></div></div><div class=\"_2nMSwX _3oLIki\"><div class=\"_21YjFX _2A07HP\" style=\"background-image:url(https://rukminim1.flixcart.com/blobio/124/124/imr-202206/blobio-imr-202206_4ea0f0719c97427694c43186dac6ce65.jpg?q=90), url(data:image/svg+xml;base64,PHN2ZyB3aWR0aD0iMjIiIGhlaWdodD0iMTgiIHhtbG5zPSJodHRwOi8vd3d3LnczLm9yZy8yMDAwL3N2ZyI+PGcgZmlsbD0iIzlEOUQ5RCIgZmlsbC1ydWxlPSJub256ZXJvIj48cGF0aCBkPSJNMjAgMEgyQzEgMCAwIDEgMCAydjE0YzAgMS4xLjkgMiAyIDJoMThjMSAwIDItMSAyLTJWMmMwLTEtMS0yLTItMnptMCAxNS45MmMtLjAyLjAzLS4wNi4wNi0uMDguMDhIMlYyLjA4TDIuMDggMmgxNy44M2MuMDMuMDIuMDYuMDYuMDguMDh2MTMuODRIMjB6Ii8+PHBhdGggZD0iTTEwIDEyLjUxTDcuNSA5LjUgNCAxNGgxNGwtNC41LTZ6Ii8+PC9nPjwvc3ZnPg==);width:62px;height:62px\"></div><div class=\"_21YjFX _2A07HP\" style=\"background-image:url(https://rukminim1.flixcart.com/blobio/124/124/imr-202206/blobio-imr-202206_f959621013014d55a0f78fe15df16178.jpg?q=90), url(data:image/svg+xml;base64,PHN2ZyB3aWR0aD0iMjIiIGhlaWdodD0iMTgiIHhtbG5zPSJodHRwOi8vd3d3LnczLm9yZy8yMDAwL3N2ZyI+PGcgZmlsbD0iIzlEOUQ5RCIgZmlsbC1ydWxlPSJub256ZXJvIj48cGF0aCBkPSJNMjAgMEgyQzEgMCAwIDEgMCAydjE0YzAgMS4xLjkgMiAyIDJoMThjMSAwIDItMSAyLTJWMmMwLTEtMS0yLTItMnptMCAxNS45MmMtLjAyLjAzLS4wNi4wNi0uMDguMDhIMlYyLjA4TDIuMDggMmgxNy44M2MuMDMuMDIuMDYuMDYuMDguMDh2MTMuODRIMjB6Ii8+PHBhdGggZD0iTTEwIDEyLjUxTDcuNSA5LjUgNCAxNGgxNGwtNC41LTZ6Ii8+PC9nPjwvc3ZnPg==);width:62px;height:62px\"></div><div class=\"_21YjFX _2A07HP\" style=\"background-image:url(https://rukminim1.flixcart.com/blobio/124/124/imr-202206/blobio-imr-202206_287299c8fa5d43bfa92cf0812a0dcf68.jpg?q=90), url(data:image/svg+xml;base64,PHN2ZyB3aWR0aD0iMjIiIGhlaWdodD0iMTgiIHhtbG5zPSJodHRwOi8vd3d3LnczLm9yZy8yMDAwL3N2ZyI+PGcgZmlsbD0iIzlEOUQ5RCIgZmlsbC1ydWxlPSJub256ZXJvIj48cGF0aCBkPSJNMjAgMEgyQzEgMCAwIDEgMCAydjE0YzAgMS4xLjkgMiAyIDJoMThjMSAwIDItMSAyLTJWMmMwLTEtMS0yLTItMnptMCAxNS45MmMtLjAyLjAzLS4wNi4wNi0uMDguMDhIMlYyLjA4TDIuMDggMmgxNy44M2MuMDMuMDIuMDYuMDYuMDguMDh2MTMuODRIMjB6Ii8+PHBhdGggZD0iTTEwIDEyLjUxTDcuNSA5LjUgNCAxNGgxNGwtNC41LTZ6Ii8+PC9nPjwvc3ZnPg==);width:62px;height:62px\"></div><div class=\"_21YjFX _2A07HP\" style=\"background-image:url(https://rukminim1.flixcart.com/blobio/124/124/imr-202206/blobio-imr-202206_2e8f28e4118e41b0ab33cfb1f22d40bf.jpg?q=90), url(data:image/svg+xml;base64,PHN2ZyB3aWR0aD0iMjIiIGhlaWdodD0iMTgiIHhtbG5zPSJodHRwOi8vd3d3LnczLm9yZy8yMDAwL3N2ZyI+PGcgZmlsbD0iIzlEOUQ5RCIgZmlsbC1ydWxlPSJub256ZXJvIj48cGF0aCBkPSJNMjAgMEgyQzEgMCAwIDEgMCAydjE0YzAgMS4xLjkgMiAyIDJoMThjMSAwIDItMSAyLTJWMmMwLTEtMS0yLTItMnptMCAxNS45MmMtLjAyLjAzLS4wNi4wNi0uMDguMDhIMlYyLjA4TDIuMDggMmgxNy44M2MuMDMuMDIuMDYuMDYuMDguMDh2MTMuODRIMjB6Ii8+PHBhdGggZD0iTTEwIDEyLjUxTDcuNSA5LjUgNCAxNGgxNGwtNC41LTZ6Ii8+PC9nPjwvc3ZnPg==);width:62px;height:62px\"></div></div><div class=\"row _3n8db9\"><div class=\"row\"><p class=\"_2sc7ZR _2V5EHH\">Amal Varghese</p><svg class=\"_2a1p_T\" height=\"14\" viewbox=\"0 0 12 12\" width=\"14\" xmlns=\"http://www.w3.org/2000/svg\"><g><circle cx=\"6\" cy=\"6\" fill=\"#878787\" r=\"6\"></circle><path d=\"M3 6l2 2 4-4\" fill=\"#878787\" stroke=\"#FFF\" stroke-width=\"1.5\"></path></g></svg><p class=\"_2mcZGG\" id=\"review-9a37bc2a-35b3-4bbe-a16d-0e1b03c215b5\"><span>Certified Buyer</span><span>, Puthenvelikkara</span></p><div></div><p class=\"_2sc7ZR\">7 months ago</p></div><div class=\"_1e9_Zu\"><div class=\"row\"><div class=\"_27aTsS\"><div class=\"_1LmwT9\"><svg class=\"skCrcq\" height=\"15\" width=\"20\" xmlns=\"http://www.w3.org/2000/svg\"><path class=\"_1LIt4y\" d=\"M9.58.006c-.41.043-.794.32-1.01.728-.277.557-2.334 4.693-2.74 5.1-.41.407-.944.6-1.544.6v8.572h7.5c.45 0 .835-.28 1.007-.665 0 0 2.207-6.234 2.207-6.834 0-.6-.47-1.072-1.07-1.072h-3.216c-.6 0-1.07-.535-1.07-1.07 0-.537.835-3.387 1.006-3.944.17-.557-.107-1.157-.664-1.35-.15-.043-.257-.086-.407-.064zM0 6.434v8.572h2.143V6.434H0z\" fill=\"#fff\" fill-rule=\"evenodd\"></path></svg><span class=\"_3c3Px5\">866</span></div><div class=\"_1LmwT9 pkR4jH\"><svg class=\"skCrcq pkR4jH\" height=\"15\" width=\"20\" xmlns=\"http://www.w3.org/2000/svg\"><path class=\"_1LIt4y\" d=\"M9.58.006c-.41.043-.794.32-1.01.728-.277.557-2.334 4.693-2.74 5.1-.41.407-.944.6-1.544.6v8.572h7.5c.45 0 .835-.28 1.007-.665 0 0 2.207-6.234 2.207-6.834 0-.6-.47-1.072-1.07-1.072h-3.216c-.6 0-1.07-.535-1.07-1.07 0-.537.835-3.387 1.006-3.944.17-.557-.107-1.157-.664-1.35-.15-.043-.257-.086-.407-.064zM0 6.434v8.572h2.143V6.434H0z\" fill=\"#fff\" fill-rule=\"evenodd\"></path></svg><span class=\"_3c3Px5\">363</span></div></div><div class=\"_2bmov8\"><svg class=\"_2UvOBb\" height=\"11\" viewbox=\"0 0 16 27\" width=\"6\" xmlns=\"http://www.w3.org/2000/svg\"><path class=\"_2aPE6f\" d=\"M16 23.207L6.11 13.161 16 3.093 12.955 0 0 13.161l12.955 13.161z\" fill=\"#fff\"></path></svg><div class=\"_3E8aIl _38dCuf\"><div class=\"_3XCI6U\"><a href=\"/reviews/MOBGC9GYEBH3GZ4E:945?reviewId=9a37bc2a-35b3-4bbe-a16d-0e1b03c215b5\"><span>Permalink</span></a></div><div class=\"_3XCI6U _2b2z-j\"><span>Report Abuse</span></div></div></div></div></div></div></div></div></div>,\n",
       " <div class=\"_16PBlm _3_IKGE\"><div class=\"col\"><div class=\"col _2wzgFH\"><div class=\"row\"><div class=\"_3LWZlK _1BLPMq\">5<img class=\"_1wB99o\" src=\"data:image/svg+xml;base64,PHN2ZyB4bWxucz0iaHR0cDovL3d3dy53My5vcmcvMjAwMC9zdmciIHdpZHRoPSIxMyIgaGVpZ2h0PSIxMiI+PHBhdGggZmlsbD0iI0ZGRiIgZD0iTTYuNSA5LjQzOWwtMy42NzQgMi4yMy45NC00LjI2LTMuMjEtMi44ODMgNC4yNTQtLjQwNEw2LjUuMTEybDEuNjkgNC4wMSA0LjI1NC40MDQtMy4yMSAyLjg4Mi45NCA0LjI2eiIvPjwvc3ZnPg==\"/></div><p class=\"_2-N8zT\">Mind-blowing purchase</p></div><div class=\"row\"><div class=\"t-ZTKy\"><div><div class=\"\">Awseome Super fast Delivery ,Hats off flipkart Delivery division Ekart, Redmi 10 is Really superb perfomance in all aspect ,<br/>1st Snapdragon 680 processor is very fast after installing 23 Apps ,there is no slagness<br/>,2nd Camera is Excellent output with this price segment<br/>wiithout insert the SIM using only wifi ,battery life  in standby mode for 3days is superb ,after prepare the backup in my oldmobile then only put the SIM &amp; SD card. Overall amazing .<br/>thanks Redmi &amp; Flipkart.....</div><span class=\"_1H-bmy\"><span>READ MORE</span></span></div></div></div><div class=\"row _3n8db9\"><div class=\"row\"><p class=\"_2sc7ZR _2V5EHH\">JEGADEESAN RAMALINGAM</p><svg class=\"_2a1p_T\" height=\"14\" viewbox=\"0 0 12 12\" width=\"14\" xmlns=\"http://www.w3.org/2000/svg\"><g><circle cx=\"6\" cy=\"6\" fill=\"#878787\" r=\"6\"></circle><path d=\"M3 6l2 2 4-4\" fill=\"#878787\" stroke=\"#FFF\" stroke-width=\"1.5\"></path></g></svg><p class=\"_2mcZGG\" id=\"review-a5eafa44-6df7-412e-9afe-4d68299f0d1a\"><span>Certified Buyer</span><span>, Dindigul</span></p><div></div><p class=\"_2sc7ZR\">10 months ago</p></div><div class=\"_1e9_Zu\"><div class=\"row\"><div class=\"_27aTsS\"><div class=\"_1LmwT9\"><svg class=\"skCrcq\" height=\"15\" width=\"20\" xmlns=\"http://www.w3.org/2000/svg\"><path class=\"_1LIt4y\" d=\"M9.58.006c-.41.043-.794.32-1.01.728-.277.557-2.334 4.693-2.74 5.1-.41.407-.944.6-1.544.6v8.572h7.5c.45 0 .835-.28 1.007-.665 0 0 2.207-6.234 2.207-6.834 0-.6-.47-1.072-1.07-1.072h-3.216c-.6 0-1.07-.535-1.07-1.07 0-.537.835-3.387 1.006-3.944.17-.557-.107-1.157-.664-1.35-.15-.043-.257-.086-.407-.064zM0 6.434v8.572h2.143V6.434H0z\" fill=\"#fff\" fill-rule=\"evenodd\"></path></svg><span class=\"_3c3Px5\">639</span></div><div class=\"_1LmwT9 pkR4jH\"><svg class=\"skCrcq pkR4jH\" height=\"15\" width=\"20\" xmlns=\"http://www.w3.org/2000/svg\"><path class=\"_1LIt4y\" d=\"M9.58.006c-.41.043-.794.32-1.01.728-.277.557-2.334 4.693-2.74 5.1-.41.407-.944.6-1.544.6v8.572h7.5c.45 0 .835-.28 1.007-.665 0 0 2.207-6.234 2.207-6.834 0-.6-.47-1.072-1.07-1.072h-3.216c-.6 0-1.07-.535-1.07-1.07 0-.537.835-3.387 1.006-3.944.17-.557-.107-1.157-.664-1.35-.15-.043-.257-.086-.407-.064zM0 6.434v8.572h2.143V6.434H0z\" fill=\"#fff\" fill-rule=\"evenodd\"></path></svg><span class=\"_3c3Px5\">267</span></div></div><div class=\"_2bmov8\"><svg class=\"_2UvOBb\" height=\"11\" viewbox=\"0 0 16 27\" width=\"6\" xmlns=\"http://www.w3.org/2000/svg\"><path class=\"_2aPE6f\" d=\"M16 23.207L6.11 13.161 16 3.093 12.955 0 0 13.161l12.955 13.161z\" fill=\"#fff\"></path></svg><div class=\"_3E8aIl _38dCuf\"><div class=\"_3XCI6U\"><a href=\"/reviews/MOBGC9GYCHQZK9GW:13?reviewId=a5eafa44-6df7-412e-9afe-4d68299f0d1a\"><span>Permalink</span></a></div><div class=\"_3XCI6U _2b2z-j\"><span>Report Abuse</span></div></div></div></div></div></div></div></div></div>,\n",
       " <div class=\"_3UAT2v _16PBlm\"><span class=\"\">All 12061 reviews</span></div>]"
      ]
     },
     "execution_count": 64,
     "metadata": {},
     "output_type": "execute_result"
    }
   ],
   "source": [
    "review_box"
   ]
  },
  {
   "cell_type": "code",
   "execution_count": 65,
   "id": "c0ae5fb1-4853-4a4b-a04a-3e5b1a32606a",
   "metadata": {},
   "outputs": [
    {
     "data": {
      "text/plain": [
       "<div class=\"_16PBlm\"><div class=\"col\"><div class=\"col _2wzgFH\"><div class=\"row\"><div class=\"_3LWZlK _1BLPMq\">5<img class=\"_1wB99o\" src=\"data:image/svg+xml;base64,PHN2ZyB4bWxucz0iaHR0cDovL3d3dy53My5vcmcvMjAwMC9zdmciIHdpZHRoPSIxMyIgaGVpZ2h0PSIxMiI+PHBhdGggZmlsbD0iI0ZGRiIgZD0iTTYuNSA5LjQzOWwtMy42NzQgMi4yMy45NC00LjI2LTMuMjEtMi44ODMgNC4yNTQtLjQwNEw2LjUuMTEybDEuNjkgNC4wMSA0LjI1NC40MDQtMy4yMSAyLjg4Mi45NCA0LjI2eiIvPjwvc3ZnPg==\"/></div><p class=\"_2-N8zT\">Fabulous!</p></div><div class=\"row\"><div class=\"t-ZTKy\"><div><div class=\"\">Good phone in this price range, battery backup good, camera ok ok, and performance very very good 🔥 I am mi love <br><br>And very fast delivery Flipkart, thanks</br></br></div><span class=\"_1H-bmy\"><span>READ MORE</span></span></div></div></div><div class=\"_2nMSwX _3oLIki\"><div class=\"_21YjFX _2A07HP\" style=\"background-image:url(https://rukminim1.flixcart.com/blobio/124/124/imr/blobio-imr_b92e0349567241e38177728764719d5b.jpg?q=90), url(data:image/svg+xml;base64,PHN2ZyB3aWR0aD0iMjIiIGhlaWdodD0iMTgiIHhtbG5zPSJodHRwOi8vd3d3LnczLm9yZy8yMDAwL3N2ZyI+PGcgZmlsbD0iIzlEOUQ5RCIgZmlsbC1ydWxlPSJub256ZXJvIj48cGF0aCBkPSJNMjAgMEgyQzEgMCAwIDEgMCAydjE0YzAgMS4xLjkgMiAyIDJoMThjMSAwIDItMSAyLTJWMmMwLTEtMS0yLTItMnptMCAxNS45MmMtLjAyLjAzLS4wNi4wNi0uMDguMDhIMlYyLjA4TDIuMDggMmgxNy44M2MuMDMuMDIuMDYuMDYuMDguMDh2MTMuODRIMjB6Ii8+PHBhdGggZD0iTTEwIDEyLjUxTDcuNSA5LjUgNCAxNGgxNGwtNC41LTZ6Ii8+PC9nPjwvc3ZnPg==);width:62px;height:62px\"></div></div><div class=\"row _3n8db9\"><div class=\"row\"><p class=\"_2sc7ZR _2V5EHH\">Rupam Dhara</p><svg class=\"_2a1p_T\" height=\"14\" viewbox=\"0 0 12 12\" width=\"14\" xmlns=\"http://www.w3.org/2000/svg\"><g><circle cx=\"6\" cy=\"6\" fill=\"#878787\" r=\"6\"></circle><path d=\"M3 6l2 2 4-4\" fill=\"#878787\" stroke=\"#FFF\" stroke-width=\"1.5\"></path></g></svg><p class=\"_2mcZGG\" id=\"review-e2efe6ad-ff76-4607-ab5d-f97f606dfd9a\"><span>Certified Buyer</span><span>, Purba Bardhaman District</span></p><div></div><p class=\"_2sc7ZR\">4 months ago</p></div><div class=\"_1e9_Zu\"><div class=\"row\"><div class=\"_27aTsS\"><div class=\"_1LmwT9\"><svg class=\"skCrcq\" height=\"15\" width=\"20\" xmlns=\"http://www.w3.org/2000/svg\"><path class=\"_1LIt4y\" d=\"M9.58.006c-.41.043-.794.32-1.01.728-.277.557-2.334 4.693-2.74 5.1-.41.407-.944.6-1.544.6v8.572h7.5c.45 0 .835-.28 1.007-.665 0 0 2.207-6.234 2.207-6.834 0-.6-.47-1.072-1.07-1.072h-3.216c-.6 0-1.07-.535-1.07-1.07 0-.537.835-3.387 1.006-3.944.17-.557-.107-1.157-.664-1.35-.15-.043-.257-.086-.407-.064zM0 6.434v8.572h2.143V6.434H0z\" fill=\"#fff\" fill-rule=\"evenodd\"></path></svg><span class=\"_3c3Px5\">1151</span></div><div class=\"_1LmwT9 pkR4jH\"><svg class=\"skCrcq pkR4jH\" height=\"15\" width=\"20\" xmlns=\"http://www.w3.org/2000/svg\"><path class=\"_1LIt4y\" d=\"M9.58.006c-.41.043-.794.32-1.01.728-.277.557-2.334 4.693-2.74 5.1-.41.407-.944.6-1.544.6v8.572h7.5c.45 0 .835-.28 1.007-.665 0 0 2.207-6.234 2.207-6.834 0-.6-.47-1.072-1.07-1.072h-3.216c-.6 0-1.07-.535-1.07-1.07 0-.537.835-3.387 1.006-3.944.17-.557-.107-1.157-.664-1.35-.15-.043-.257-.086-.407-.064zM0 6.434v8.572h2.143V6.434H0z\" fill=\"#fff\" fill-rule=\"evenodd\"></path></svg><span class=\"_3c3Px5\">193</span></div></div><div class=\"_2bmov8\"><svg class=\"_2UvOBb\" height=\"11\" viewbox=\"0 0 16 27\" width=\"6\" xmlns=\"http://www.w3.org/2000/svg\"><path class=\"_2aPE6f\" d=\"M16 23.207L6.11 13.161 16 3.093 12.955 0 0 13.161l12.955 13.161z\" fill=\"#fff\"></path></svg><div class=\"_3E8aIl _38dCuf\"><div class=\"_3XCI6U\"><a href=\"/reviews/MOBGC9GYEBH3GZ4E:2610?reviewId=e2efe6ad-ff76-4607-ab5d-f97f606dfd9a\"><span>Permalink</span></a></div><div class=\"_3XCI6U _2b2z-j\"><span>Report Abuse</span></div></div></div></div></div></div></div></div></div>"
      ]
     },
     "execution_count": 65,
     "metadata": {},
     "output_type": "execute_result"
    }
   ],
   "source": [
    "review_box[0]"
   ]
  },
  {
   "cell_type": "code",
   "execution_count": 156,
   "id": "9d122346-48e0-4bd8-80e9-fd0e225eabde",
   "metadata": {},
   "outputs": [],
   "source": [
    "comment0=review_box[0].div.div.div.find_all(\"div\",{\"class\":\"_3LWZlK _1BLPMq\"})"
   ]
  },
  {
   "cell_type": "code",
   "execution_count": 157,
   "id": "8f54b482-1b58-4aa3-8613-2315d04f332f",
   "metadata": {},
   "outputs": [
    {
     "data": {
      "text/plain": [
       "'5'"
      ]
     },
     "execution_count": 157,
     "metadata": {},
     "output_type": "execute_result"
    }
   ],
   "source": [
    "comment0[0].text"
   ]
  },
  {
   "cell_type": "code",
   "execution_count": 84,
   "id": "44d1657a-5e53-423a-8067-801d83440cea",
   "metadata": {},
   "outputs": [],
   "source": [
    "comment1=review_box[0].div.div.find_all(\"p\",{\"class\":\"_2-N8zT\"})"
   ]
  },
  {
   "cell_type": "code",
   "execution_count": 85,
   "id": "7b29db8a-7119-4370-ba2f-55f90478afaf",
   "metadata": {},
   "outputs": [
    {
     "data": {
      "text/plain": [
       "<p class=\"_2-N8zT\">Fabulous!</p>"
      ]
     },
     "execution_count": 85,
     "metadata": {},
     "output_type": "execute_result"
    }
   ],
   "source": [
    "comment1[0]"
   ]
  },
  {
   "cell_type": "code",
   "execution_count": 79,
   "id": "bb75e8d1-0397-4f95-b848-378236890d53",
   "metadata": {},
   "outputs": [
    {
     "data": {
      "text/plain": [
       "'Fabulous!'"
      ]
     },
     "execution_count": 79,
     "metadata": {},
     "output_type": "execute_result"
    }
   ],
   "source": [
    "comment1[0].text"
   ]
  },
  {
   "cell_type": "code",
   "execution_count": 95,
   "id": "123a0368-e4ca-4320-9d2f-7a2c79e615cb",
   "metadata": {},
   "outputs": [],
   "source": [
    "comment2=review_box[0].div.div.find_all(\"div\",{\"class\":\"t-ZTKy\"})"
   ]
  },
  {
   "cell_type": "code",
   "execution_count": 96,
   "id": "a8c82f64-4f43-480c-afa9-dc56a72ca8b7",
   "metadata": {},
   "outputs": [
    {
     "data": {
      "text/plain": [
       "'Good phone in this price range, battery backup good, camera ok ok, and performance very very good 🔥 I am mi love And very fast delivery Flipkart, thanksREAD MORE'"
      ]
     },
     "execution_count": 96,
     "metadata": {},
     "output_type": "execute_result"
    }
   ],
   "source": [
    "comment2[0].text"
   ]
  },
  {
   "cell_type": "code",
   "execution_count": 111,
   "id": "490d1cbb-aa63-45da-bb05-ae3467f860b3",
   "metadata": {},
   "outputs": [],
   "source": [
    "comment3=review_box[0].div.div.find_all(\"p\",{\"class\":\"_2sc7ZR\"})"
   ]
  },
  {
   "cell_type": "code",
   "execution_count": 113,
   "id": "dc3d1d6a-b4ac-45d7-b07f-4e44b2c0a6c0",
   "metadata": {},
   "outputs": [
    {
     "data": {
      "text/plain": [
       "[<p class=\"_2sc7ZR _2V5EHH\">Rupam Dhara</p>,\n",
       " <p class=\"_2sc7ZR\">4 months ago</p>]"
      ]
     },
     "execution_count": 113,
     "metadata": {},
     "output_type": "execute_result"
    }
   ],
   "source": [
    "comment3"
   ]
  },
  {
   "cell_type": "code",
   "execution_count": 114,
   "id": "4a48a2e9-7291-43ae-aabe-39faec971a6a",
   "metadata": {},
   "outputs": [],
   "source": [
    "comment4=comment3[0].text"
   ]
  },
  {
   "cell_type": "code",
   "execution_count": 115,
   "id": "467b00a1-5187-4670-8b93-bb306e28b88c",
   "metadata": {},
   "outputs": [
    {
     "data": {
      "text/plain": [
       "'Rupam Dhara'"
      ]
     },
     "execution_count": 115,
     "metadata": {},
     "output_type": "execute_result"
    }
   ],
   "source": [
    "comment4"
   ]
  },
  {
   "cell_type": "code",
   "execution_count": 116,
   "id": "f8bcdf42-4704-4e10-96ec-e4d797b99c81",
   "metadata": {},
   "outputs": [],
   "source": [
    "comment5=comment3[1].text"
   ]
  },
  {
   "cell_type": "code",
   "execution_count": 117,
   "id": "2fd01047-e07c-45a6-a4d6-f38676a848d2",
   "metadata": {},
   "outputs": [
    {
     "data": {
      "text/plain": [
       "'4 months ago'"
      ]
     },
     "execution_count": 117,
     "metadata": {},
     "output_type": "execute_result"
    }
   ],
   "source": [
    "comment5"
   ]
  },
  {
   "cell_type": "code",
   "execution_count": 118,
   "id": "7301e0e9-497c-4fa1-bd61-7711f5606d4f",
   "metadata": {},
   "outputs": [],
   "source": [
    "comment6=review_box[0].div.div.find_all(\"p\",{\"class\":\"_2mcZGG\"})"
   ]
  },
  {
   "cell_type": "code",
   "execution_count": 121,
   "id": "276436b7-9d9a-4e1f-9328-2bf4b3dbb5ea",
   "metadata": {},
   "outputs": [],
   "source": [
    "comment7=comment6[0].text"
   ]
  },
  {
   "cell_type": "code",
   "execution_count": 161,
   "id": "92179f49-20db-4b47-8861-54d336b90b35",
   "metadata": {},
   "outputs": [
    {
     "data": {
      "text/plain": [
       "'Purba Bardhaman District'"
      ]
     },
     "execution_count": 161,
     "metadata": {},
     "output_type": "execute_result"
    }
   ],
   "source": [
    "comment7[17:]"
   ]
  },
  {
   "cell_type": "code",
   "execution_count": 140,
   "id": "4c2f35d6-446c-4be9-b2f0-d026751c96ec",
   "metadata": {},
   "outputs": [
    {
     "data": {
      "text/plain": [
       "'5Fabulous!Good phone in this price range, battery backup good, camera ok ok, and performance very very good 🔥 I am mi love And very fast delivery Flipkart, thanksREAD MORERupam DharaCertified Buyer, Purba Bardhaman District4 months ago1151193PermalinkReport Abuse'"
      ]
     },
     "execution_count": 140,
     "metadata": {},
     "output_type": "execute_result"
    }
   ],
   "source": [
    "review_box[0].text"
   ]
  },
  {
   "cell_type": "code",
   "execution_count": 148,
   "id": "ee227275-d73e-40c0-b12e-24563a2f1397",
   "metadata": {},
   "outputs": [
    {
     "data": {
      "text/plain": [
       "11"
      ]
     },
     "execution_count": 148,
     "metadata": {},
     "output_type": "execute_result"
    }
   ],
   "source": [
    "len(review_box)"
   ]
  },
  {
   "cell_type": "code",
   "execution_count": 162,
   "id": "c60319f5-d8b7-4a76-b81f-22d27638ab0b",
   "metadata": {},
   "outputs": [],
   "source": [
    "l=[]\n",
    "for i in range(0,len(review_box)-2):\n",
    "    d={}\n",
    "    comment0=review_box[i].div.div.div.find_all(\"div\",{\"class\":\"_3LWZlK _1BLPMq\"})\n",
    "    d[\"Ratings\"]=comment0[0].text\n",
    "    comment1=review_box[i].div.div.find_all(\"p\",{\"class\":\"_2-N8zT\"})\n",
    "    d[\"Title\"]=comment1[0].text\n",
    "    comment2=review_box[i].div.div.find_all(\"div\",{\"class\":\"t-ZTKy\"})\n",
    "    d[\"Review\"]=comment2[0].text\n",
    "    comment3=review_box[i].div.div.find_all(\"p\",{\"class\":\"_2sc7ZR\"})\n",
    "    d[\"Name\"]=comment3[0].text\n",
    "    d[\"Time\"]=comment3[1].text\n",
    "    comment4=review_box[i].div.div.find_all(\"p\",{\"class\":\"_2mcZGG\"})\n",
    "    comment5=comment4[0].text\n",
    "    d[\"Address\"]=comment5[17:]\n",
    "    l.append(d)"
   ]
  },
  {
   "cell_type": "code",
   "execution_count": 163,
   "id": "27daf14b-f84c-4d51-b9f5-2defd6f4ed84",
   "metadata": {},
   "outputs": [
    {
     "data": {
      "text/plain": [
       "[{'Ratings': '5',\n",
       "  'Title': 'Fabulous!',\n",
       "  'Review': 'Good phone in this price range, battery backup good, camera ok ok, and performance very very good 🔥 I am mi love And very fast delivery Flipkart, thanksREAD MORE',\n",
       "  'Name': 'Rupam Dhara',\n",
       "  'Time': '4 months ago',\n",
       "  'Address': 'Purba Bardhaman District'},\n",
       " {'Ratings': '4',\n",
       "  'Title': 'Wonderful',\n",
       "  'Review': 'Very nice mobile 🥳😊Performance is very good 😊Camera quality good 😊Good zooming colour boost ✨I love it😘Thank you Flipkart 😇✨READ MORE',\n",
       "  'Name': 'Soumadip Mondal',\n",
       "  'Time': '4 months ago',\n",
       "  'Address': 'Durllabhganj'},\n",
       " {'Ratings': '5',\n",
       "  'Title': 'Simply awesome',\n",
       "  'Review': 'Good phone very nice working and good performance nice lookREAD MORE',\n",
       "  'Name': 'Kuldeep Singh',\n",
       "  'Time': '6 months ago',\n",
       "  'Address': 'Indore'},\n",
       " {'Ratings': '4',\n",
       "  'Title': 'Good quality product',\n",
       "  'Review': 'This phone camera is not good but you can use if you are a first phone buyerBattery is awesome after heavy use also not need to charge in a day Display also impresive in this segment HD+ 6.7inch quality was goodSpeaker is loud and clear no any problemPerformance is sometimes not good you can play candy crush game but frame drops are so high, I think I am using right now 90hz panel bcoz i feel poco M4 pro .Now your i first smartphone buyer this phone is greatREAD MORE',\n",
       "  'Name': 'Nilesh  Gaidhani',\n",
       "  'Time': '8 months ago',\n",
       "  'Address': 'Nashik'},\n",
       " {'Ratings': '5',\n",
       "  'Title': 'Best in the market!',\n",
       "  'Review': 'Better backup osm ans camere clarity is very good 😊 i am happy for this product bec this product is excellent and this budget price is good  very happy 😁READ MORE',\n",
       "  'Name': 'Flipkart Customer',\n",
       "  'Time': '4 months ago',\n",
       "  'Address': 'Mumbai'},\n",
       " {'Ratings': '5',\n",
       "  'Title': 'Wonderful',\n",
       "  'Review': 'Mobile is best in this price rangeProcessor Qualcomm Snapdragon 680 is really powerful for multitasking and gamingCamera 📷 Night mode is amazing 🤩Battery life is outstanding fabulous performanceReal 6000 MahOverall excellent performance5 star for Flipkart servicesREAD MORE',\n",
       "  'Name': 'Rahul Dhochak',\n",
       "  'Time': '6 months ago',\n",
       "  'Address': 'Julana'},\n",
       " {'Ratings': '5',\n",
       "  'Title': 'Wonderful',\n",
       "  'Review': \"I m a regular customer of Mi ...redmi 10is awesome 👍. It's charging is very fast ...i m giving this review after 2 months ....i m satisfied with this ...plz go for this guys ..really awesome 👍 products...thanks FlipkartREAD MORE\",\n",
       "  'Name': 'nitish gaurav',\n",
       "  'Time': '7 months ago',\n",
       "  'Address': 'Saran'},\n",
       " {'Ratings': '5',\n",
       "  'Title': 'Brilliant',\n",
       "  'Review': 'Awesome 😎 Product Redmi has made cool phone this phone camera clicks a photo with HDR which will rock . And performance is the main thing in redmi . Front camera is 🤳 5 mega pixel but comes like 18 mega pixel. Although Redmi 10 is rocking phone.READ MORE',\n",
       "  'Name': 'Deepak kumar Shrivastava',\n",
       "  'Time': '10 months ago',\n",
       "  'Address': 'Ahmedabad'},\n",
       " {'Ratings': '4',\n",
       "  'Title': 'Wonderful',\n",
       "  'Review': 'Faster delivery,The Smartphone is budget and has spec that is Value for money, It is balanced in that area. Performance is good for the price. Battery is also good. But the software or UI experience is mostly trash.READ MORE',\n",
       "  'Name': 'Amal Varghese',\n",
       "  'Time': '7 months ago',\n",
       "  'Address': 'Puthenvelikkara'}]"
      ]
     },
     "execution_count": 163,
     "metadata": {},
     "output_type": "execute_result"
    }
   ],
   "source": [
    "l"
   ]
  },
  {
   "cell_type": "code",
   "execution_count": null,
   "id": "45240932-43dd-4279-a9a2-c525f892db1f",
   "metadata": {},
   "outputs": [],
   "source": []
  }
 ],
 "metadata": {
  "kernelspec": {
   "display_name": "Python 3 (ipykernel)",
   "language": "python",
   "name": "python3"
  },
  "language_info": {
   "codemirror_mode": {
    "name": "ipython",
    "version": 3
   },
   "file_extension": ".py",
   "mimetype": "text/x-python",
   "name": "python",
   "nbconvert_exporter": "python",
   "pygments_lexer": "ipython3",
   "version": "3.10.8"
  }
 },
 "nbformat": 4,
 "nbformat_minor": 5
}
